{
 "cells": [
  {
   "cell_type": "code",
   "execution_count": 1,
   "metadata": {},
   "outputs": [],
   "source": [
    "# import required libraries\n",
    "import pandas as pd\n",
    "import numpy as np\n",
    "import matplotlib.pyplot as plt\n",
    "\n",
    "import re\n",
    "import nltk\n",
    "# nltk.download('punkt')\n",
    "import tensorflow_hub as hub\n",
    "# nltk.download('wordnet')\n",
    "# nltk.download('stopwords')\n",
    "from nltk.corpus import stopwords\n",
    "\n",
    "stop_words = set(stopwords.words('english'))\n",
    "\n",
    "from nltk.stem import WordNetLemmatizer"
   ]
  },
  {
   "cell_type": "code",
   "execution_count": 2,
   "metadata": {},
   "outputs": [],
   "source": [
    "lemmatizer = WordNetLemmatizer()\n",
    "\n",
    "def preprocess_text(text):\n",
    "    # convert to lowercase\n",
    "    text = text.lower()\n",
    "    \n",
    "    # remove punctuation and digits\n",
    "    text = re.sub(r'[^\\w\\s]', '', text)\n",
    "    text = re.sub(r'\\d+', '', text)\n",
    "    # remove stopwords and lemmatize\n",
    "    tokens = nltk.word_tokenize(text)\n",
    "    tokens = [lemmatizer.lemmatize(token) for token in tokens if token not in stop_words]\n",
    "    text = ' '.join(tokens)\n",
    "    return text"
   ]
  },
  {
   "cell_type": "code",
   "execution_count": 3,
   "metadata": {},
   "outputs": [
    {
     "name": "stdout",
     "output_type": "stream",
     "text": [
      "data science field computer science related processing analysis inferencing knowledge data also using data build model predict classify different thing\n"
     ]
    }
   ],
   "source": [
    "answer = 'Data science is the field of computer science related to the processing, analysis, and inferencing knowledge from data. Also, using the data to build models to predict or classify different things.'\n",
    "print(preprocess_text(answer))"
   ]
  },
  {
   "cell_type": "code",
   "execution_count": 4,
   "metadata": {},
   "outputs": [],
   "source": [
    "def cosine(u, v):\n",
    "    return np.dot(u, v) / (np.linalg.norm(u) * np.linalg.norm(v))"
   ]
  },
  {
   "cell_type": "code",
   "execution_count": 5,
   "metadata": {},
   "outputs": [],
   "source": [
    "# !pip install sentence-transformers\n",
    "from sentence_transformers import SentenceTransformer\n",
    "model = SentenceTransformer('bert-base-nli-mean-tokens')\n"
   ]
  },
  {
   "cell_type": "code",
   "execution_count": 6,
   "metadata": {},
   "outputs": [
    {
     "data": {
      "text/plain": [
       "array([-1.81225196e-01,  5.54039069e-02,  9.21563566e-01,  7.05223620e-01,\n",
       "        2.32941866e-01, -3.40692043e-01, -2.92760581e-01,  4.03872877e-01,\n",
       "        5.25011301e-01, -2.67803222e-01,  1.26078725e-01,  6.34646595e-01,\n",
       "       -1.38472095e-01,  6.63811147e-01, -8.94803882e-01, -1.89042628e-01,\n",
       "       -4.98433888e-01, -7.32416034e-01,  5.38707599e-02,  4.16389734e-01,\n",
       "       -5.44670224e-01, -1.86554834e-01, -6.71169162e-01,  2.79475540e-01,\n",
       "        2.86918700e-01,  1.96076646e-01, -9.30317417e-02,  5.66970825e-01,\n",
       "       -6.46118820e-01,  6.72432557e-02, -6.29338622e-01, -2.98740029e-01,\n",
       "        8.55114087e-02, -4.36456352e-01, -1.16138920e-01,  6.21933162e-01,\n",
       "        3.79874438e-01,  2.88136333e-01, -2.14285925e-01,  5.20847850e-02,\n",
       "       -7.32149839e-01, -4.25157219e-01,  3.01976472e-01,  5.76404035e-01,\n",
       "       -1.37869525e+00, -7.20408678e-01, -1.09232605e+00,  4.50102776e-01,\n",
       "       -4.95508045e-01,  3.72041106e-01, -1.21497929e+00,  9.41953957e-01,\n",
       "       -3.23123783e-01,  2.80003190e-01,  2.71733999e-02,  8.94513130e-01,\n",
       "        8.55845213e-01, -1.90085804e+00,  1.42811835e-01,  3.88693400e-02,\n",
       "        2.61309803e-01,  1.53807968e-01,  7.36884058e-01, -1.26004934e-01,\n",
       "        9.37240794e-02, -2.66119301e-01,  5.74106276e-01, -1.04795623e+00,\n",
       "       -1.18291354e+00, -9.10374522e-01, -2.57707238e-01, -4.07374740e-01,\n",
       "       -1.22048199e+00,  2.68027842e-01, -9.69754457e-01,  2.13070169e-01,\n",
       "        1.87891290e-01,  3.33084285e-01,  7.22759545e-01,  1.30910054e-01,\n",
       "       -6.94356084e-01,  4.11438465e-01,  1.10020971e+00,  2.18091056e-01,\n",
       "        1.30567443e+00, -1.04209232e+00,  1.23951957e-01,  1.21231902e+00,\n",
       "       -9.13918078e-01,  4.43926603e-01,  1.13718450e-01,  5.47873437e-01,\n",
       "       -2.19799221e-01,  1.84529752e-01,  1.48954839e-01, -5.01367867e-01,\n",
       "       -6.38037249e-02, -3.79889101e-01, -6.02068067e-01,  6.85880423e-01,\n",
       "       -2.87709922e-01, -2.00674430e-01, -2.71015823e-01,  1.17119268e-01,\n",
       "       -1.41411483e-01, -2.61891842e-01, -9.03699268e-03, -4.94099349e-01,\n",
       "       -5.84254265e-01,  8.19366455e-01, -1.77342966e-01, -2.82799125e-01,\n",
       "        2.51041651e-01,  1.01704165e-01, -5.67341089e-01,  1.34510905e-01,\n",
       "       -1.08458415e-01,  3.60879838e-01,  2.10970536e-01,  7.81742096e-01,\n",
       "       -3.38963009e-02,  6.63956881e-01, -4.97937679e-01, -3.09548736e-01,\n",
       "        8.51811469e-01, -2.03679316e-02,  4.44297284e-01,  8.36176872e-01,\n",
       "       -4.99905646e-01, -3.61411870e-01,  6.68193102e-01,  4.26649332e-01,\n",
       "        1.21012139e+00, -8.22163820e-01, -1.14258565e-02,  5.37618041e-01,\n",
       "        9.17956755e-02, -3.78655285e-01, -8.54588926e-01,  4.44999844e-01,\n",
       "        4.39344384e-02, -7.36038685e-01,  6.62900209e-01, -4.81384039e-01,\n",
       "       -1.74798314e-02, -5.76195896e-01, -2.22544044e-01, -3.24075758e-01,\n",
       "       -8.19665194e-01,  5.56963444e-01, -5.00315607e-01,  1.23664582e+00,\n",
       "       -1.61331844e+00, -8.55597615e-01, -3.95966560e-01,  6.95062339e-01,\n",
       "       -1.24286330e+00,  4.38556015e-01, -3.38255823e-01,  4.54864919e-01,\n",
       "        8.44297633e-02,  6.15327537e-01, -1.29653907e+00, -2.40757331e-01,\n",
       "       -6.30874708e-02, -8.18076253e-01,  9.13128734e-01, -4.42479014e-01,\n",
       "        6.81530774e-01,  5.36661029e-01,  4.68432635e-01, -4.08015132e-01,\n",
       "        2.11640447e-01, -1.39179647e-01,  3.92208517e-01, -2.48965129e-01,\n",
       "        4.08844918e-01, -1.20560471e-02,  1.91484272e-01, -1.15868318e+00,\n",
       "       -1.30096614e-01,  1.47880644e-01, -4.03306872e-01, -5.29078066e-01,\n",
       "       -1.04039538e+00, -3.58470678e-01,  4.53645200e-01, -6.16310000e-01,\n",
       "       -1.13379754e-01, -2.35441536e-01, -1.35790035e-01, -1.04154810e-01,\n",
       "        5.63933372e-01, -3.55869532e-01,  6.45178854e-01,  1.81053743e-01,\n",
       "       -1.09189582e+00,  1.47867942e+00, -1.58986557e+00,  4.46337819e-01,\n",
       "        3.69684815e-01, -4.61953461e-01,  4.25233990e-01, -8.68812203e-01,\n",
       "        2.66943187e-01, -4.93940711e-01, -4.59095478e-01,  6.02852665e-02,\n",
       "       -7.92379081e-01, -5.23280263e-01, -5.04521072e-01,  1.14895952e+00,\n",
       "        1.56444892e-01,  6.55758321e-01,  9.96789157e-01, -7.89047629e-02,\n",
       "       -2.48766243e-01, -3.48987766e-02,  9.53925133e-01,  8.30049455e-01,\n",
       "        1.49610865e+00, -3.05997163e-01, -1.92788303e-01,  8.29750240e-01,\n",
       "       -4.04888898e-01,  8.55621874e-01,  5.00693440e-01,  9.19509888e-01,\n",
       "        1.65963376e+00,  5.00953734e-01,  3.71854037e-01, -1.44465894e-01,\n",
       "        4.28430080e-01, -2.55112767e-01, -1.95975602e-01, -3.52458477e-01,\n",
       "       -8.22288096e-02,  1.39564916e-01,  2.44356021e-01,  4.49868500e-01,\n",
       "        1.93916321e-01,  1.35151374e+00, -1.01046585e-01, -1.52906209e-01,\n",
       "        1.20874815e-01, -1.27854085e+00, -3.10849965e-01,  1.21271655e-01,\n",
       "       -2.03767121e-01,  2.21468061e-01, -6.32208824e-01, -3.38025391e-01,\n",
       "        6.04901314e-01, -1.00291336e+00, -1.97170749e-01, -2.17122421e-01,\n",
       "       -4.81714159e-01, -5.72273910e-01, -4.29975182e-01,  9.20373678e-01,\n",
       "       -7.58218884e-01, -5.29299915e-01, -5.01809895e-01, -4.41611260e-01,\n",
       "       -2.22359151e-01, -9.26112115e-01, -4.04685408e-01,  7.82159209e-01,\n",
       "       -6.03079796e-04,  9.60077867e-02,  2.22234398e-01, -1.02015626e+00,\n",
       "        1.84625983e-01,  2.88274825e-01, -7.27081597e-02, -1.40125728e+00,\n",
       "       -4.06019855e-03,  1.87003791e-01, -2.87107736e-01,  5.07211387e-02,\n",
       "       -1.70703813e-01, -1.32209793e-01, -2.43706957e-01,  6.18891060e-01,\n",
       "        2.84686089e-01,  4.76065844e-01,  6.99436218e-02, -4.97012079e-01,\n",
       "        1.52029231e-01, -2.98012290e-02, -9.75080580e-02,  6.60976842e-02,\n",
       "       -1.32476234e+00, -1.05087295e-01,  5.18092155e-01,  2.04783678e-01,\n",
       "        3.21484447e-01, -2.28137553e-01,  1.74517795e-01, -7.30621755e-01,\n",
       "       -7.01583326e-01,  5.46386838e-01, -2.79140741e-01,  2.68733561e-01,\n",
       "       -9.87900496e-02, -1.23791508e-01, -3.19533736e-01,  4.50707972e-01,\n",
       "       -4.09664243e-01, -6.87564075e-01,  4.22914654e-01, -1.06876023e-01,\n",
       "        1.63576439e-01, -1.71072185e-01, -3.62435579e-01,  3.45606267e-01,\n",
       "        5.36821820e-02, -4.56753999e-01,  5.48065417e-02, -9.33219075e-01,\n",
       "       -9.72137332e-01,  9.83270586e-01,  6.37311995e-01,  4.64839280e-01,\n",
       "        7.58919418e-02,  2.10615501e-01,  8.61966461e-02,  9.35318530e-01,\n",
       "        1.97533816e-01, -3.30375582e-01,  3.29279512e-01,  8.15465823e-02,\n",
       "       -1.30414414e+00,  2.23659053e-01,  7.89328143e-02,  5.48293889e-01,\n",
       "       -7.74230063e-01, -2.96811610e-01,  3.38841975e-01, -6.30546570e-01,\n",
       "       -9.60119367e-01,  7.45275915e-02, -5.78984678e-01,  5.04713953e-01,\n",
       "        3.19572002e-01, -2.27104977e-01,  5.32532454e-01, -8.58659506e-01,\n",
       "        7.06483796e-02, -1.70930400e-01,  1.11001027e+00, -1.21832216e+00,\n",
       "        2.92821601e-02, -1.47006750e-01, -7.91216493e-01,  3.02293390e-01,\n",
       "        3.00311893e-01,  4.10232723e-01, -4.38615471e-01,  6.66433871e-01,\n",
       "        8.06510389e-01, -3.38593036e-01, -5.55657864e-01, -8.79517555e-01,\n",
       "        8.62471998e-01, -5.81969991e-02, -3.26872468e-01, -2.01213837e-01,\n",
       "        4.61240485e-02,  4.34648879e-02,  2.95612097e-01, -1.75072110e+00,\n",
       "       -7.89054334e-01, -1.46358564e-01, -9.39193606e-01, -5.53508639e-01,\n",
       "       -3.89989913e-02, -1.42738193e-01,  6.83257163e-01, -1.85118355e-02,\n",
       "       -3.86505097e-01, -6.93830669e-01, -1.14630863e-01, -1.45354122e-01,\n",
       "        1.45817012e-01, -3.15485507e-01,  5.77899516e-01,  9.62836385e-01,\n",
       "       -2.45305263e-02, -2.87595898e-01, -1.28444001e-01, -1.63231328e-01,\n",
       "       -4.40951645e-01, -7.72634387e-01, -1.77342027e-01, -7.72582233e-01,\n",
       "       -9.18223500e-01,  2.01960742e-01, -3.42193007e-01, -4.91591722e-01,\n",
       "        1.97945356e-01,  3.64575326e-01,  1.48299646e+00, -9.31808114e-01,\n",
       "        5.43999434e-01,  7.55621374e-01,  1.05194306e+00, -3.16219896e-01,\n",
       "        5.57041466e-01, -9.93360937e-01,  1.23960450e-01, -9.03557539e-01,\n",
       "        1.26300991e-01,  8.12209845e-02, -5.88506281e-01, -9.05951411e-02,\n",
       "        4.99980450e-01, -1.05604219e+00, -9.72316623e-01,  6.31987572e-01,\n",
       "       -2.82480508e-01, -1.13527489e+00, -3.07197928e-01,  6.94550395e-01,\n",
       "       -4.88828003e-01,  9.53126311e-01,  3.41556281e-01, -1.42549872e+00,\n",
       "       -8.04191232e-01,  2.12424770e-01,  1.95336178e-01,  4.63264920e-02,\n",
       "       -3.28857362e-01, -3.45692009e-01,  3.84958178e-01,  5.13238788e-01,\n",
       "       -1.63214892e-01,  5.04655778e-01,  2.19105005e-01, -1.66278183e-01,\n",
       "        3.42400938e-01, -6.31923750e-02,  1.07697165e-03,  4.44997638e-01,\n",
       "        3.46448779e-01,  1.54914451e+00, -3.61750126e-02, -3.83252650e-02,\n",
       "        1.10149515e+00,  7.65751377e-02,  4.19265389e-01, -1.74688980e-01,\n",
       "       -5.23185849e-01,  1.51555717e-01, -2.37700537e-01,  6.79139137e-01,\n",
       "       -1.37783453e-01, -1.00516021e+00, -2.23036364e-01, -5.23520529e-01,\n",
       "       -2.99628526e-01,  2.21844837e-01,  2.92179704e-01, -1.94969580e-01,\n",
       "        3.71375978e-01,  1.01106501e+00, -6.27329588e-01, -2.93109983e-01,\n",
       "        6.03912817e-03,  7.65101552e-01,  3.68589133e-01, -7.95016527e-01,\n",
       "       -1.02223265e+00,  9.00964677e-01,  4.96450275e-01, -3.80847275e-01,\n",
       "        5.34931362e-01,  7.67873526e-01, -8.28090981e-02, -7.49985814e-01,\n",
       "        4.65707839e-01,  5.12298703e-01,  2.57749617e-01,  4.32044804e-01,\n",
       "        3.42238575e-01, -5.20398557e-01, -2.77805418e-01,  8.52474928e-01,\n",
       "        7.98064530e-01, -5.39276302e-01,  5.61349317e-02,  4.31246817e-01,\n",
       "       -8.08619320e-01, -5.12424827e-01, -2.79758334e-01,  2.29237173e-02,\n",
       "       -7.41929889e-01,  2.11865962e-01,  3.69140923e-01,  6.73841119e-01,\n",
       "        8.44667554e-01,  9.17749941e-01, -1.09773546e-01,  6.30497694e-01,\n",
       "        1.05326319e+00,  6.34809673e-01, -3.43709141e-01, -8.39966357e-01,\n",
       "       -1.39482126e-01,  6.40705884e-01, -1.71118509e-02,  4.18480150e-02,\n",
       "        3.07912976e-01, -1.09928936e-01, -2.85358369e-01,  3.55016559e-01,\n",
       "       -3.86587083e-01,  4.95457679e-01, -3.63823324e-01,  8.48669484e-02,\n",
       "       -6.39110804e-03, -9.77698565e-01, -4.33907121e-01, -1.25788474e+00,\n",
       "        1.02679241e+00,  3.61384869e-01,  6.54306293e-01,  4.45607543e-01,\n",
       "        2.40261212e-01,  3.69742870e-01,  5.89873731e-01,  7.21937835e-01,\n",
       "       -5.59306562e-01, -3.21706682e-01,  9.73052830e-02,  5.20445645e-01,\n",
       "       -2.65188158e-01, -5.05436808e-02,  7.19529033e-01, -3.50364178e-01,\n",
       "        3.00930768e-01,  4.66330443e-03,  5.20977855e-01, -7.66291559e-01,\n",
       "       -3.35932434e-01,  3.70759815e-01,  2.57742226e-01, -1.20294940e+00,\n",
       "       -2.07693473e-01, -3.08361858e-01, -8.69186699e-01,  1.86304420e-01,\n",
       "        6.38648808e-01, -9.64010432e-02, -6.90251887e-01, -3.32303226e-01,\n",
       "       -1.16320360e+00,  2.39855528e-01, -3.29576135e-02, -1.30627751e-01,\n",
       "        7.50806510e-01,  6.51360929e-01,  2.76742160e-01,  6.64724052e-01,\n",
       "        9.56556853e-03, -1.33683348e+00, -3.10927451e-01,  4.09612916e-02,\n",
       "        4.31515509e-03, -7.38940358e-01, -8.59975964e-02, -2.65442669e-01,\n",
       "        7.65154183e-01,  1.06600058e+00, -1.74365252e-01, -2.46385336e-01,\n",
       "        2.16773659e-01, -6.19851530e-01,  6.59291372e-02, -5.03691316e-01,\n",
       "        7.94329405e-01,  6.19809031e-01, -2.57155925e-01, -4.83425885e-01,\n",
       "        2.61963487e-01, -2.30494246e-01,  3.33476454e-01, -5.05457640e-01,\n",
       "       -4.69340151e-03, -3.41279805e-01,  5.14986336e-01, -6.40024304e-01,\n",
       "        6.07162453e-02,  5.37868500e-01,  1.71101958e-01,  9.04777180e-03,\n",
       "        6.98850751e-01,  6.05234087e-01, -3.64251882e-02,  1.05334714e-01,\n",
       "        5.09580970e-01, -9.80654299e-01, -1.26263428e+00, -3.94717157e-01,\n",
       "       -2.98462749e-01,  1.27562732e-01, -7.18904957e-02,  4.48081493e-01,\n",
       "       -5.42022049e-01,  4.45949137e-01, -2.92156160e-01, -6.44252121e-01,\n",
       "        8.17776024e-01, -1.30259879e-02,  4.16323215e-01, -4.26180214e-01,\n",
       "       -6.86727583e-01,  2.39186194e-02,  8.09280351e-02,  3.44754130e-01,\n",
       "        8.19780901e-02,  2.11341605e-02, -3.05408746e-01, -3.81561011e-01,\n",
       "        1.64773732e-01, -1.24823952e+00,  1.07937539e+00,  4.64263819e-02,\n",
       "       -2.11127102e-01,  9.59249914e-01,  9.11729276e-01,  6.28303662e-02,\n",
       "       -2.74810851e-01, -2.19489723e-01, -8.02970678e-02,  3.25621337e-01,\n",
       "       -9.03204203e-01, -2.24007636e-01,  3.15885186e-01, -1.82939932e-01,\n",
       "       -8.81116569e-01,  8.23487520e-01, -1.61484573e-02, -2.51028210e-01,\n",
       "       -3.03530335e-01,  2.67344117e-01,  3.05025876e-01,  7.66666949e-01,\n",
       "        4.37232614e-01,  6.77443802e-01,  1.62585348e-01,  3.84807140e-01,\n",
       "        4.81445231e-02,  4.79059577e-01,  9.33932424e-01,  5.97980440e-01,\n",
       "       -5.49719930e-01,  2.10093737e-01,  9.24475253e-01, -1.33211106e-01,\n",
       "        7.84966052e-01, -2.36320898e-01,  7.56281793e-01, -1.80434778e-01,\n",
       "        1.42040360e+00, -3.05226445e-01,  4.85255271e-01, -2.36695036e-02,\n",
       "        3.47357392e-01, -3.43168110e-01,  5.64923227e-01, -4.81372476e-01,\n",
       "       -5.34117043e-01,  5.79974532e-01,  1.10015166e+00, -8.45415890e-01,\n",
       "        1.01535964e+00, -1.63419828e-01, -8.27874601e-01, -8.03250730e-01,\n",
       "       -1.21830857e+00,  2.45038848e-02, -5.89650691e-01, -7.95687973e-01,\n",
       "        4.35935706e-01,  6.90242290e-01, -9.47295606e-01, -6.16349019e-02,\n",
       "        1.39530075e+00, -1.81388542e-01,  6.31182969e-01, -7.61506975e-01,\n",
       "       -6.57501042e-01, -5.04877925e-01,  1.13789760e-01, -3.32114607e-01,\n",
       "       -8.77558291e-02,  1.56140029e-01, -7.24740207e-01, -1.11404777e+00,\n",
       "        1.93520747e-02,  5.36876559e-01,  7.51969516e-01,  1.68980688e-01,\n",
       "       -6.27650321e-01,  3.51355299e-02,  1.11033547e+00,  3.91547270e-02,\n",
       "       -4.96139795e-01, -4.88849640e-01,  4.08466868e-02,  5.23904681e-01,\n",
       "       -1.89318120e-01,  6.14922404e-01,  2.53547728e-01, -4.27218556e-01,\n",
       "       -3.43120545e-01,  3.92535061e-01, -3.88261467e-01, -2.14554295e-01,\n",
       "        2.36017406e-01, -1.99962214e-01, -8.26812923e-01, -4.05901112e-02,\n",
       "        4.98059914e-02, -1.07992344e-01,  7.95424044e-01,  2.34497994e-01,\n",
       "       -4.80655342e-01, -2.26294056e-01,  1.57923865e+00, -2.16582060e-01,\n",
       "        1.61205053e-01,  6.62930131e-01,  5.19931793e-01, -9.53941122e-02,\n",
       "       -3.64149749e-01, -3.09503913e-01, -8.96401796e-03, -3.03817511e-01,\n",
       "       -5.41947544e-01,  7.46457636e-01, -2.55352616e-01,  2.40630180e-01,\n",
       "       -3.09508383e-01,  4.59864773e-02,  3.60587448e-01,  1.72510922e-01,\n",
       "       -2.68718451e-01,  2.96024531e-01, -5.22172093e-01, -6.08684897e-01,\n",
       "        5.65997541e-01,  4.85509545e-01, -7.41983533e-01, -7.09427595e-01,\n",
       "       -2.28324682e-01, -3.21208149e-01,  3.46085399e-01,  2.21150517e-01,\n",
       "       -6.58212543e-01, -9.57207441e-01, -8.95481408e-01, -3.15310746e-01,\n",
       "        3.21047395e-01, -6.63893282e-01, -1.74943185e+00,  7.00887561e-01],\n",
       "      dtype=float32)"
      ]
     },
     "execution_count": 6,
     "metadata": {},
     "output_type": "execute_result"
    }
   ],
   "source": [
    "sentence_embeddings = model.encode(answer)\n",
    "sentence_embeddings\n"
   ]
  },
  {
   "cell_type": "code",
   "execution_count": 7,
   "metadata": {},
   "outputs": [],
   "source": [
    "# # Tensorflow hub universal sentence encoder\n",
    "# embed = hub.load(\"https://tfhub.dev/google/universal-sentence-encoder/4\")"
   ]
  },
  {
   "cell_type": "code",
   "execution_count": 8,
   "metadata": {},
   "outputs": [],
   "source": [
    "def calculate_relevance(desired_answer: str, student_answer: str) -> float:\n",
    "    desired_answer = preprocess_text(desired_answer)\n",
    "    student_answer = preprocess_text(student_answer)\n",
    "    # print(\"preprocessed desired answer: \", desired_answer)\n",
    "\n",
    "    # compute cosine similarity between desired_answer and student_answer texts\n",
    "    similarity = cosine(model.encode(desired_answer), model.encode(student_answer))\n",
    "    return similarity"
   ]
  },
  {
   "cell_type": "code",
   "execution_count": 9,
   "metadata": {},
   "outputs": [
    {
     "name": "stdout",
     "output_type": "stream",
     "text": [
      "similarity for desired_answer1:  0.81001526\n",
      "similarity for desired_answer2:  0.65172726\n",
      "Final grade:  4\n"
     ]
    }
   ],
   "source": [
    "question = 'What is datascience?'\n",
    "desired_answer1 = 'Data science is an interdisciplinary field that uses data analysis, statistics, and machine learning to extract insights and make data-driven decisions. It involves data collection, cleaning, analysis, machine learning, data visualization, and domain expertise.'\n",
    "desired_answer2 = 'Data science is the practice of extracting insights from data through statistical and computational methods. It involves collecting, cleaning, analyzing, and visualizing data to inform decisions.'\n",
    "answer = 'Data science is the field of computer science related to the processing, analysis, and inferencing knowledge from data. Also, using the data to build models to predict or classify different things.'\n",
    "\n",
    "mrk1 = calculate_relevance(desired_answer1, answer)\n",
    "mrk2 = calculate_relevance(desired_answer2, answer)\n",
    "aggr_mrk = ((mrk1+mrk2)/2)*5\n",
    "print(\"similarity for desired_answer1: \", mrk1)\n",
    "print(\"similarity for desired_answer2: \", mrk2)\n",
    "print(\"Final grade: \", round(aggr_mrk))"
   ]
  },
  {
   "cell_type": "code",
   "execution_count": 10,
   "metadata": {},
   "outputs": [],
   "source": [
    "from scraper import  scrape"
   ]
  },
  {
   "cell_type": "code",
   "execution_count": 11,
   "metadata": {},
   "outputs": [],
   "source": [
    "fullmarks = 5"
   ]
  },
  {
   "cell_type": "code",
   "execution_count": 12,
   "metadata": {},
   "outputs": [],
   "source": [
    "question='What are the 3 big Vs of BigData?' \n",
    "question = 'What Is Image Transform?'\n",
    "# answer = 'Data science is the field of computer science related to the processing, analysis, and inferencing knowledge from data. Also, using the data to build models to predict or classify different things.'\n",
    "# answer = 'Data science is the study of animals in the zoo. The data is collected based on their daily habits. The analysis is done on this obtained information.'\n",
    "answer = 'An image can be expanded in terms of a discrete set of basis arrays called basis images. Hence, these basis images can be generated by unitary matrices. An NxN image can be viewed as an N^2×1 vector. It provides a set of coordinates or basis vectors for vector space.'\n",
    "reference_answers = scrape(question)"
   ]
  },
  {
   "cell_type": "code",
   "execution_count": 13,
   "metadata": {},
   "outputs": [],
   "source": [
    "marks = []\n",
    "if reference_answers:\n",
    "    for each_answer in reference_answers:\n",
    "        tmpmrk = calculate_relevance(each_answer, answer)\n",
    "        marks.append(round(tmpmrk*fullmarks))"
   ]
  },
  {
   "cell_type": "code",
   "execution_count": 14,
   "metadata": {},
   "outputs": [
    {
     "data": {
      "text/plain": [
       "[2, 2]"
      ]
     },
     "execution_count": 14,
     "metadata": {},
     "output_type": "execute_result"
    }
   ],
   "source": [
    "marks"
   ]
  },
  {
   "cell_type": "code",
   "execution_count": 15,
   "metadata": {},
   "outputs": [
    {
     "name": "stdout",
     "output_type": "stream",
     "text": [
      "Graded marks(average):2.0/5 \n"
     ]
    }
   ],
   "source": [
    "print(\"Graded marks(average):{}/5 \".format(sum(marks)/len(marks)))"
   ]
  },
  {
   "cell_type": "code",
   "execution_count": 16,
   "metadata": {},
   "outputs": [
    {
     "data": {
      "text/plain": [
       "['What Is Image Transform - Google SearchGoogle×Please click here if you are not redirected within a few seconds.    AllImagesVideosBooks Maps News Shopping Search tools    Any timeAny timePast hourPast 24 hoursPast weekPast monthPast yearAll resultsAll resultsVerbatimWhat Is an Image Transform? An image transform can be applied to an image to convert it from one domain to another. Viewing an image in domains such as frequency or Hough space enables the identification of features that may not be as easily detected in the spatial domain.Image Transform - MATLAB & Simulink - MathWorkswww.mathworks.com › discovery › image-transformAbout Featured SnippetsPeople also askWhat transform is used in image processing?What are the methods of image transformation?What is the need of image transform in dip?What is image transformation in GIS?Image Transformations - Tutorialspointwww.tutorialspoint.com › dip › image_transformationsTransformation. Transformation is a function. A function that maps one set to another set after performing some operations. Digital Image Processing system. We\\xa0...Image Transformations - Canada.canatural-resources.canada.ca › image-interpretation-analysis › image-transfo...Nov 23, 2015 · Image transformations typically involve the manipulation of multiple bands of data, whether from a single multispectral image or from two or\\xa0...Image Transformation: Digitally Process your Images - Filestack Blogblog.filestack.com › api › image-transformation-digitally-process-imagesDec 21, 2022 · Image transformation refers to a process in which we manipulate various bands of image data. The data is manipulated from one or more than one\\xa0...Image Transformshomepages.inf.ed.ac.uk › rbf › HIPR2 › tranopsImage Transforms. ---. Contents. Distance Transform, maps binary images to distance from background. Fourier Transform, maps image into spatial frequency\\xa0...Image Transformation | Digital Image Processing System - Javatpointwww.javatpoint.com › dip-image-transformationsIn computer science, digital image processing uses algorithms to perform image processing on digital images to extract some useful information.Image transforms - Introduction to Bioimage Analysisbioimagebook.github.io › chapters › 2-processing › 6-transforms › transfo...An image transform converts an image into some other form, in which the pixel values can have a (sometimes very) different interpretation. There are lots of\\xa0...What is Image Transformation | IGI Globalwww.igi-global.com › dictionary › image-transformationUS$37.50What is Image Transformation? Definition of Image Transformation: An operation that processes an input image and produces an output image.Image Transformation - an overview | ScienceDirect Topicswww.sciencedirect.com › topics › engineering › image-transformationImage transform is a common image processing operation, which is exploited to convert an input image from one domain to another. Classical image transformations\\xa0...Image Transforms | Craft CMS Documentation | 4.xcraftcms.com › docs › image-transformsTransforms are non-destructive, meaning they have no effect on the original uploaded image.Related searchesWhat is image transform in digital image processingWhat is image transform with exampleWhat is image transform in computerTypes of image transformationImage transformation in remote sensingFourier Transform in image processingImage transformation matrixImage transformation in computer vision  Next >  M1L, Toronto, ONFrom your IP address\\xa0-\\xa0Learn moreSign inSettingsPrivacyTermsDark theme: Off ',\n",
       " 'What Is Image Transform - SearchSkip to content RewardsFrançaisAllImagesVideosMapsNewsShoppingMoreFlightsTravelHotelsToolsThere are no results for What Is Image TransformCheck your spelling or try different keywordsRef A: 6545ad05f6f64af2b31616fceca694dc Ref B: BNZEEAP00016B4C Ref C: 2023-11-04T02:31:33ZSee moreAllPast 24 hoursPast weekPast monthPast year© 2023 MicrosoftPrivacy and CookiesLegalAdvertiseHelpFeedback']"
      ]
     },
     "execution_count": 16,
     "metadata": {},
     "output_type": "execute_result"
    }
   ],
   "source": [
    "reference_answers"
   ]
  },
  {
   "cell_type": "code",
   "execution_count": 17,
   "metadata": {},
   "outputs": [],
   "source": [
    "def get_marks(question: str, answer: str)-> float:\n",
    "    reference_answers = scrape(question)\n",
    "    marks = []\n",
    "    if reference_answers:\n",
    "        for each_answer in reference_answers:\n",
    "            tmpmrk = calculate_relevance(each_answer, answer)\n",
    "            marks.append(round(tmpmrk*fullmarks))\n",
    "    return((sum(marks)/len(marks)))"
   ]
  },
  {
   "cell_type": "code",
   "execution_count": 18,
   "metadata": {},
   "outputs": [
    {
     "name": "stdout",
     "output_type": "stream",
     "text": [
      "2.5\n"
     ]
    }
   ],
   "source": [
    "question = 'What is datascience?'\n",
    "answer = 'Data science is the field of computer science related to the processing, analysis, and inferencing knowledge from data. Also, using the data to build models to predict or classify different things.'\n",
    "print(get_marks(question, answer))"
   ]
  },
  {
   "cell_type": "markdown",
   "metadata": {},
   "source": [
    "### Method evaluation"
   ]
  },
  {
   "cell_type": "code",
   "execution_count": 19,
   "metadata": {},
   "outputs": [],
   "source": [
    "import pandas as pd "
   ]
  },
  {
   "cell_type": "code",
   "execution_count": 20,
   "metadata": {},
   "outputs": [
    {
     "data": {
      "text/html": [
       "<div>\n",
       "<style scoped>\n",
       "    .dataframe tbody tr th:only-of-type {\n",
       "        vertical-align: middle;\n",
       "    }\n",
       "\n",
       "    .dataframe tbody tr th {\n",
       "        vertical-align: top;\n",
       "    }\n",
       "\n",
       "    .dataframe thead th {\n",
       "        text-align: right;\n",
       "    }\n",
       "</style>\n",
       "<table border=\"1\" class=\"dataframe\">\n",
       "  <thead>\n",
       "    <tr style=\"text-align: right;\">\n",
       "      <th></th>\n",
       "      <th>id</th>\n",
       "      <th>question</th>\n",
       "      <th>desired_answer</th>\n",
       "      <th>student_answer</th>\n",
       "      <th>score_me</th>\n",
       "      <th>score_other</th>\n",
       "      <th>score_avg</th>\n",
       "    </tr>\n",
       "  </thead>\n",
       "  <tbody>\n",
       "    <tr>\n",
       "      <th>0</th>\n",
       "      <td>1.1</td>\n",
       "      <td>What is the role of a prototype program in pro...</td>\n",
       "      <td>To simulate the behaviour of portions of the d...</td>\n",
       "      <td>High risk problems are address in the prototyp...</td>\n",
       "      <td>4.0</td>\n",
       "      <td>3.0</td>\n",
       "      <td>3.5</td>\n",
       "    </tr>\n",
       "    <tr>\n",
       "      <th>1</th>\n",
       "      <td>1.1</td>\n",
       "      <td>What is the role of a prototype program in pro...</td>\n",
       "      <td>To simulate the behaviour of portions of the d...</td>\n",
       "      <td>To simulate portions of the desired final prod...</td>\n",
       "      <td>5.0</td>\n",
       "      <td>5.0</td>\n",
       "      <td>5.0</td>\n",
       "    </tr>\n",
       "    <tr>\n",
       "      <th>2</th>\n",
       "      <td>1.1</td>\n",
       "      <td>What is the role of a prototype program in pro...</td>\n",
       "      <td>To simulate the behaviour of portions of the d...</td>\n",
       "      <td>A prototype program simulates the behaviors of...</td>\n",
       "      <td>5.0</td>\n",
       "      <td>3.0</td>\n",
       "      <td>4.0</td>\n",
       "    </tr>\n",
       "    <tr>\n",
       "      <th>3</th>\n",
       "      <td>1.1</td>\n",
       "      <td>What is the role of a prototype program in pro...</td>\n",
       "      <td>To simulate the behaviour of portions of the d...</td>\n",
       "      <td>Defined in the Specification phase a prototype...</td>\n",
       "      <td>5.0</td>\n",
       "      <td>5.0</td>\n",
       "      <td>5.0</td>\n",
       "    </tr>\n",
       "    <tr>\n",
       "      <th>4</th>\n",
       "      <td>1.1</td>\n",
       "      <td>What is the role of a prototype program in pro...</td>\n",
       "      <td>To simulate the behaviour of portions of the d...</td>\n",
       "      <td>It is used to let the users have a first idea ...</td>\n",
       "      <td>3.0</td>\n",
       "      <td>3.0</td>\n",
       "      <td>3.0</td>\n",
       "    </tr>\n",
       "  </tbody>\n",
       "</table>\n",
       "</div>"
      ],
      "text/plain": [
       "    id                                           question  \\\n",
       "0  1.1  What is the role of a prototype program in pro...   \n",
       "1  1.1  What is the role of a prototype program in pro...   \n",
       "2  1.1  What is the role of a prototype program in pro...   \n",
       "3  1.1  What is the role of a prototype program in pro...   \n",
       "4  1.1  What is the role of a prototype program in pro...   \n",
       "\n",
       "                                      desired_answer  \\\n",
       "0  To simulate the behaviour of portions of the d...   \n",
       "1  To simulate the behaviour of portions of the d...   \n",
       "2  To simulate the behaviour of portions of the d...   \n",
       "3  To simulate the behaviour of portions of the d...   \n",
       "4  To simulate the behaviour of portions of the d...   \n",
       "\n",
       "                                      student_answer  score_me  score_other  \\\n",
       "0  High risk problems are address in the prototyp...       4.0          3.0   \n",
       "1  To simulate portions of the desired final prod...       5.0          5.0   \n",
       "2  A prototype program simulates the behaviors of...       5.0          3.0   \n",
       "3  Defined in the Specification phase a prototype...       5.0          5.0   \n",
       "4  It is used to let the users have a first idea ...       3.0          3.0   \n",
       "\n",
       "   score_avg  \n",
       "0        3.5  \n",
       "1        5.0  \n",
       "2        4.0  \n",
       "3        5.0  \n",
       "4        3.0  "
      ]
     },
     "execution_count": 20,
     "metadata": {},
     "output_type": "execute_result"
    }
   ],
   "source": [
    "df = pd.read_csv(\"dataset.csv\")\n",
    "df.head()"
   ]
  },
  {
   "cell_type": "code",
   "execution_count": 21,
   "metadata": {},
   "outputs": [],
   "source": [
    "df.drop(columns=['desired_answer', 'score_me', 'score_other', 'id'], inplace=True)"
   ]
  },
  {
   "cell_type": "code",
   "execution_count": 22,
   "metadata": {},
   "outputs": [
    {
     "data": {
      "text/html": [
       "<div>\n",
       "<style scoped>\n",
       "    .dataframe tbody tr th:only-of-type {\n",
       "        vertical-align: middle;\n",
       "    }\n",
       "\n",
       "    .dataframe tbody tr th {\n",
       "        vertical-align: top;\n",
       "    }\n",
       "\n",
       "    .dataframe thead th {\n",
       "        text-align: right;\n",
       "    }\n",
       "</style>\n",
       "<table border=\"1\" class=\"dataframe\">\n",
       "  <thead>\n",
       "    <tr style=\"text-align: right;\">\n",
       "      <th></th>\n",
       "      <th>question</th>\n",
       "      <th>student_answer</th>\n",
       "      <th>score_avg</th>\n",
       "    </tr>\n",
       "  </thead>\n",
       "  <tbody>\n",
       "    <tr>\n",
       "      <th>0</th>\n",
       "      <td>What is the role of a prototype program in pro...</td>\n",
       "      <td>High risk problems are address in the prototyp...</td>\n",
       "      <td>3.5</td>\n",
       "    </tr>\n",
       "    <tr>\n",
       "      <th>1</th>\n",
       "      <td>What is the role of a prototype program in pro...</td>\n",
       "      <td>To simulate portions of the desired final prod...</td>\n",
       "      <td>5.0</td>\n",
       "    </tr>\n",
       "    <tr>\n",
       "      <th>2</th>\n",
       "      <td>What is the role of a prototype program in pro...</td>\n",
       "      <td>A prototype program simulates the behaviors of...</td>\n",
       "      <td>4.0</td>\n",
       "    </tr>\n",
       "    <tr>\n",
       "      <th>3</th>\n",
       "      <td>What is the role of a prototype program in pro...</td>\n",
       "      <td>Defined in the Specification phase a prototype...</td>\n",
       "      <td>5.0</td>\n",
       "    </tr>\n",
       "    <tr>\n",
       "      <th>4</th>\n",
       "      <td>What is the role of a prototype program in pro...</td>\n",
       "      <td>It is used to let the users have a first idea ...</td>\n",
       "      <td>3.0</td>\n",
       "    </tr>\n",
       "  </tbody>\n",
       "</table>\n",
       "</div>"
      ],
      "text/plain": [
       "                                            question  \\\n",
       "0  What is the role of a prototype program in pro...   \n",
       "1  What is the role of a prototype program in pro...   \n",
       "2  What is the role of a prototype program in pro...   \n",
       "3  What is the role of a prototype program in pro...   \n",
       "4  What is the role of a prototype program in pro...   \n",
       "\n",
       "                                      student_answer  score_avg  \n",
       "0  High risk problems are address in the prototyp...        3.5  \n",
       "1  To simulate portions of the desired final prod...        5.0  \n",
       "2  A prototype program simulates the behaviors of...        4.0  \n",
       "3  Defined in the Specification phase a prototype...        5.0  \n",
       "4  It is used to let the users have a first idea ...        3.0  "
      ]
     },
     "execution_count": 22,
     "metadata": {},
     "output_type": "execute_result"
    }
   ],
   "source": [
    "df.head()"
   ]
  },
  {
   "cell_type": "code",
   "execution_count": 23,
   "metadata": {},
   "outputs": [
    {
     "data": {
      "text/plain": [
       "2716"
      ]
     },
     "execution_count": 23,
     "metadata": {},
     "output_type": "execute_result"
    }
   ],
   "source": [
    "len(df)"
   ]
  },
  {
   "cell_type": "markdown",
   "metadata": {},
   "source": [
    "#### Calculating the error"
   ]
  },
  {
   "cell_type": "code",
   "execution_count": 56,
   "metadata": {},
   "outputs": [
    {
     "ename": "ChunkedEncodingError",
     "evalue": "('Connection broken: IncompleteRead(24769 bytes read, 1 more expected)', IncompleteRead(24769 bytes read, 1 more expected))",
     "output_type": "error",
     "traceback": [
      "\u001b[1;31m---------------------------------------------------------------------------\u001b[0m",
      "\u001b[1;31mIncompleteRead\u001b[0m                            Traceback (most recent call last)",
      "File \u001b[1;32m~\\AppData\\Roaming\\Python\\Python39\\site-packages\\urllib3\\response.py:710\u001b[0m, in \u001b[0;36mHTTPResponse._error_catcher\u001b[1;34m(self)\u001b[0m\n\u001b[0;32m    709\u001b[0m \u001b[39mtry\u001b[39;00m:\n\u001b[1;32m--> 710\u001b[0m     \u001b[39myield\u001b[39;00m\n\u001b[0;32m    712\u001b[0m \u001b[39mexcept\u001b[39;00m SocketTimeout \u001b[39mas\u001b[39;00m e:\n\u001b[0;32m    713\u001b[0m     \u001b[39m# FIXME: Ideally we'd like to include the url in the ReadTimeoutError but\u001b[39;00m\n\u001b[0;32m    714\u001b[0m     \u001b[39m# there is yet no clean way to get at it from this context.\u001b[39;00m\n",
      "File \u001b[1;32m~\\AppData\\Roaming\\Python\\Python39\\site-packages\\urllib3\\response.py:835\u001b[0m, in \u001b[0;36mHTTPResponse._raw_read\u001b[1;34m(self, amt)\u001b[0m\n\u001b[0;32m    825\u001b[0m         \u001b[39mif\u001b[39;00m (\n\u001b[0;32m    826\u001b[0m             \u001b[39mself\u001b[39m\u001b[39m.\u001b[39menforce_content_length\n\u001b[0;32m    827\u001b[0m             \u001b[39mand\u001b[39;00m \u001b[39mself\u001b[39m\u001b[39m.\u001b[39mlength_remaining \u001b[39mis\u001b[39;00m \u001b[39mnot\u001b[39;00m \u001b[39mNone\u001b[39;00m\n\u001b[1;32m   (...)\u001b[0m\n\u001b[0;32m    833\u001b[0m             \u001b[39m# raised during streaming, so all calls with incorrect\u001b[39;00m\n\u001b[0;32m    834\u001b[0m             \u001b[39m# Content-Length are caught.\u001b[39;00m\n\u001b[1;32m--> 835\u001b[0m             \u001b[39mraise\u001b[39;00m IncompleteRead(\u001b[39mself\u001b[39m\u001b[39m.\u001b[39m_fp_bytes_read, \u001b[39mself\u001b[39m\u001b[39m.\u001b[39mlength_remaining)\n\u001b[0;32m    837\u001b[0m \u001b[39mif\u001b[39;00m data:\n",
      "\u001b[1;31mIncompleteRead\u001b[0m: IncompleteRead(24769 bytes read, 1 more expected)",
      "\nThe above exception was the direct cause of the following exception:\n",
      "\u001b[1;31mProtocolError\u001b[0m                             Traceback (most recent call last)",
      "File \u001b[1;32m~\\AppData\\Roaming\\Python\\Python39\\site-packages\\requests\\models.py:816\u001b[0m, in \u001b[0;36mResponse.iter_content.<locals>.generate\u001b[1;34m()\u001b[0m\n\u001b[0;32m    815\u001b[0m \u001b[39mtry\u001b[39;00m:\n\u001b[1;32m--> 816\u001b[0m     \u001b[39myield from\u001b[39;00m \u001b[39mself\u001b[39m\u001b[39m.\u001b[39mraw\u001b[39m.\u001b[39mstream(chunk_size, decode_content\u001b[39m=\u001b[39m\u001b[39mTrue\u001b[39;00m)\n\u001b[0;32m    817\u001b[0m \u001b[39mexcept\u001b[39;00m ProtocolError \u001b[39mas\u001b[39;00m e:\n",
      "File \u001b[1;32m~\\AppData\\Roaming\\Python\\Python39\\site-packages\\urllib3\\response.py:936\u001b[0m, in \u001b[0;36mHTTPResponse.stream\u001b[1;34m(self, amt, decode_content)\u001b[0m\n\u001b[0;32m    935\u001b[0m \u001b[39mwhile\u001b[39;00m \u001b[39mnot\u001b[39;00m is_fp_closed(\u001b[39mself\u001b[39m\u001b[39m.\u001b[39m_fp) \u001b[39mor\u001b[39;00m \u001b[39mlen\u001b[39m(\u001b[39mself\u001b[39m\u001b[39m.\u001b[39m_decoded_buffer) \u001b[39m>\u001b[39m \u001b[39m0\u001b[39m:\n\u001b[1;32m--> 936\u001b[0m     data \u001b[39m=\u001b[39m \u001b[39mself\u001b[39;49m\u001b[39m.\u001b[39;49mread(amt\u001b[39m=\u001b[39;49mamt, decode_content\u001b[39m=\u001b[39;49mdecode_content)\n\u001b[0;32m    938\u001b[0m     \u001b[39mif\u001b[39;00m data:\n",
      "File \u001b[1;32m~\\AppData\\Roaming\\Python\\Python39\\site-packages\\urllib3\\response.py:879\u001b[0m, in \u001b[0;36mHTTPResponse.read\u001b[1;34m(self, amt, decode_content, cache_content)\u001b[0m\n\u001b[0;32m    877\u001b[0m         \u001b[39mreturn\u001b[39;00m \u001b[39mself\u001b[39m\u001b[39m.\u001b[39m_decoded_buffer\u001b[39m.\u001b[39mget(amt)\n\u001b[1;32m--> 879\u001b[0m data \u001b[39m=\u001b[39m \u001b[39mself\u001b[39;49m\u001b[39m.\u001b[39;49m_raw_read(amt)\n\u001b[0;32m    881\u001b[0m flush_decoder \u001b[39m=\u001b[39m amt \u001b[39mis\u001b[39;00m \u001b[39mNone\u001b[39;00m \u001b[39mor\u001b[39;00m (amt \u001b[39m!=\u001b[39m \u001b[39m0\u001b[39m \u001b[39mand\u001b[39;00m \u001b[39mnot\u001b[39;00m data)\n",
      "File \u001b[1;32m~\\AppData\\Roaming\\Python\\Python39\\site-packages\\urllib3\\response.py:835\u001b[0m, in \u001b[0;36mHTTPResponse._raw_read\u001b[1;34m(self, amt)\u001b[0m\n\u001b[0;32m    825\u001b[0m         \u001b[39mif\u001b[39;00m (\n\u001b[0;32m    826\u001b[0m             \u001b[39mself\u001b[39m\u001b[39m.\u001b[39menforce_content_length\n\u001b[0;32m    827\u001b[0m             \u001b[39mand\u001b[39;00m \u001b[39mself\u001b[39m\u001b[39m.\u001b[39mlength_remaining \u001b[39mis\u001b[39;00m \u001b[39mnot\u001b[39;00m \u001b[39mNone\u001b[39;00m\n\u001b[1;32m   (...)\u001b[0m\n\u001b[0;32m    833\u001b[0m             \u001b[39m# raised during streaming, so all calls with incorrect\u001b[39;00m\n\u001b[0;32m    834\u001b[0m             \u001b[39m# Content-Length are caught.\u001b[39;00m\n\u001b[1;32m--> 835\u001b[0m             \u001b[39mraise\u001b[39;00m IncompleteRead(\u001b[39mself\u001b[39m\u001b[39m.\u001b[39m_fp_bytes_read, \u001b[39mself\u001b[39m\u001b[39m.\u001b[39mlength_remaining)\n\u001b[0;32m    837\u001b[0m \u001b[39mif\u001b[39;00m data:\n",
      "File \u001b[1;32mc:\\ProgramData\\Anaconda3\\lib\\contextlib.py:137\u001b[0m, in \u001b[0;36m_GeneratorContextManager.__exit__\u001b[1;34m(self, typ, value, traceback)\u001b[0m\n\u001b[0;32m    136\u001b[0m \u001b[39mtry\u001b[39;00m:\n\u001b[1;32m--> 137\u001b[0m     \u001b[39mself\u001b[39;49m\u001b[39m.\u001b[39;49mgen\u001b[39m.\u001b[39;49mthrow(typ, value, traceback)\n\u001b[0;32m    138\u001b[0m \u001b[39mexcept\u001b[39;00m \u001b[39mStopIteration\u001b[39;00m \u001b[39mas\u001b[39;00m exc:\n\u001b[0;32m    139\u001b[0m     \u001b[39m# Suppress StopIteration *unless* it's the same exception that\u001b[39;00m\n\u001b[0;32m    140\u001b[0m     \u001b[39m# was passed to throw().  This prevents a StopIteration\u001b[39;00m\n\u001b[0;32m    141\u001b[0m     \u001b[39m# raised inside the \"with\" statement from being suppressed.\u001b[39;00m\n",
      "File \u001b[1;32m~\\AppData\\Roaming\\Python\\Python39\\site-packages\\urllib3\\response.py:727\u001b[0m, in \u001b[0;36mHTTPResponse._error_catcher\u001b[1;34m(self)\u001b[0m\n\u001b[0;32m    725\u001b[0m \u001b[39mexcept\u001b[39;00m (HTTPException, \u001b[39mOSError\u001b[39;00m) \u001b[39mas\u001b[39;00m e:\n\u001b[0;32m    726\u001b[0m     \u001b[39m# This includes IncompleteRead.\u001b[39;00m\n\u001b[1;32m--> 727\u001b[0m     \u001b[39mraise\u001b[39;00m ProtocolError(\u001b[39mf\u001b[39m\u001b[39m\"\u001b[39m\u001b[39mConnection broken: \u001b[39m\u001b[39m{\u001b[39;00me\u001b[39m!r}\u001b[39;00m\u001b[39m\"\u001b[39m, e) \u001b[39mfrom\u001b[39;00m \u001b[39me\u001b[39;00m\n\u001b[0;32m    729\u001b[0m \u001b[39m# If no exception is thrown, we should avoid cleaning up\u001b[39;00m\n\u001b[0;32m    730\u001b[0m \u001b[39m# unnecessarily.\u001b[39;00m\n",
      "\u001b[1;31mProtocolError\u001b[0m: ('Connection broken: IncompleteRead(24769 bytes read, 1 more expected)', IncompleteRead(24769 bytes read, 1 more expected))",
      "\nDuring handling of the above exception, another exception occurred:\n",
      "\u001b[1;31mChunkedEncodingError\u001b[0m                      Traceback (most recent call last)",
      "\u001b[1;32mc:\\Users\\DELL\\OneDrive\\Desktop\\Third sem\\AIML-Capstone-Project-QA-AI\\answer_grading\\model_.ipynb Cell 26\u001b[0m line \u001b[0;36m<cell line: 3>\u001b[1;34m()\u001b[0m\n\u001b[0;32m      <a href='vscode-notebook-cell:/c%3A/Users/DELL/OneDrive/Desktop/Third%20sem/AIML-Capstone-Project-QA-AI/answer_grading/model_.ipynb#X31sZmlsZQ%3D%3D?line=5'>6</a>\u001b[0m answer \u001b[39m=\u001b[39m df[\u001b[39m'\u001b[39m\u001b[39mstudent_answer\u001b[39m\u001b[39m'\u001b[39m][i]\n\u001b[0;32m      <a href='vscode-notebook-cell:/c%3A/Users/DELL/OneDrive/Desktop/Third%20sem/AIML-Capstone-Project-QA-AI/answer_grading/model_.ipynb#X31sZmlsZQ%3D%3D?line=6'>7</a>\u001b[0m \u001b[39m# print(\"answer:\", answer)\u001b[39;00m\n\u001b[1;32m----> <a href='vscode-notebook-cell:/c%3A/Users/DELL/OneDrive/Desktop/Third%20sem/AIML-Capstone-Project-QA-AI/answer_grading/model_.ipynb#X31sZmlsZQ%3D%3D?line=7'>8</a>\u001b[0m cal_mark \u001b[39m=\u001b[39m get_marks(question, answer)\n\u001b[0;32m      <a href='vscode-notebook-cell:/c%3A/Users/DELL/OneDrive/Desktop/Third%20sem/AIML-Capstone-Project-QA-AI/answer_grading/model_.ipynb#X31sZmlsZQ%3D%3D?line=8'>9</a>\u001b[0m \u001b[39m# print(\"Calculated marks:\", cal_mark)\u001b[39;00m\n\u001b[0;32m     <a href='vscode-notebook-cell:/c%3A/Users/DELL/OneDrive/Desktop/Third%20sem/AIML-Capstone-Project-QA-AI/answer_grading/model_.ipynb#X31sZmlsZQ%3D%3D?line=9'>10</a>\u001b[0m original_mark \u001b[39m=\u001b[39m df[\u001b[39m'\u001b[39m\u001b[39mscore_avg\u001b[39m\u001b[39m'\u001b[39m][i]\n",
      "\u001b[1;32mc:\\Users\\DELL\\OneDrive\\Desktop\\Third sem\\AIML-Capstone-Project-QA-AI\\answer_grading\\model_.ipynb Cell 26\u001b[0m line \u001b[0;36mget_marks\u001b[1;34m(question, answer)\u001b[0m\n\u001b[0;32m      <a href='vscode-notebook-cell:/c%3A/Users/DELL/OneDrive/Desktop/Third%20sem/AIML-Capstone-Project-QA-AI/answer_grading/model_.ipynb#X31sZmlsZQ%3D%3D?line=0'>1</a>\u001b[0m \u001b[39mdef\u001b[39;00m \u001b[39mget_marks\u001b[39m(question: \u001b[39mstr\u001b[39m, answer: \u001b[39mstr\u001b[39m)\u001b[39m-\u001b[39m\u001b[39m>\u001b[39m \u001b[39mfloat\u001b[39m:\n\u001b[1;32m----> <a href='vscode-notebook-cell:/c%3A/Users/DELL/OneDrive/Desktop/Third%20sem/AIML-Capstone-Project-QA-AI/answer_grading/model_.ipynb#X31sZmlsZQ%3D%3D?line=1'>2</a>\u001b[0m     reference_answers \u001b[39m=\u001b[39m scrape(question)\n\u001b[0;32m      <a href='vscode-notebook-cell:/c%3A/Users/DELL/OneDrive/Desktop/Third%20sem/AIML-Capstone-Project-QA-AI/answer_grading/model_.ipynb#X31sZmlsZQ%3D%3D?line=2'>3</a>\u001b[0m     marks \u001b[39m=\u001b[39m []\n\u001b[0;32m      <a href='vscode-notebook-cell:/c%3A/Users/DELL/OneDrive/Desktop/Third%20sem/AIML-Capstone-Project-QA-AI/answer_grading/model_.ipynb#X31sZmlsZQ%3D%3D?line=3'>4</a>\u001b[0m     \u001b[39mif\u001b[39;00m reference_answers:\n",
      "File \u001b[1;32mc:\\Users\\DELL\\OneDrive\\Desktop\\Third sem\\AIML-Capstone-Project-QA-AI\\answer_grading\\scraper.py:29\u001b[0m, in \u001b[0;36mscrape\u001b[1;34m(question)\u001b[0m\n\u001b[0;32m     25\u001b[0m contents \u001b[39m=\u001b[39m []\n\u001b[0;32m     27\u001b[0m \u001b[39mfor\u001b[39;00m e_url \u001b[39min\u001b[39;00m urls:\n\u001b[0;32m     28\u001b[0m     \u001b[39m# Send an HTTP GET request to the URL\u001b[39;00m\n\u001b[1;32m---> 29\u001b[0m     response \u001b[39m=\u001b[39m requests\u001b[39m.\u001b[39;49mget(e_url)\n\u001b[0;32m     31\u001b[0m     \u001b[39m# Check if the request was successful\u001b[39;00m\n\u001b[0;32m     32\u001b[0m     \u001b[39mif\u001b[39;00m response\u001b[39m.\u001b[39mstatus_code \u001b[39m==\u001b[39m \u001b[39m200\u001b[39m:\n\u001b[0;32m     33\u001b[0m         \u001b[39m# Parse the page content using BeautifulSoup\u001b[39;00m\n",
      "File \u001b[1;32m~\\AppData\\Roaming\\Python\\Python39\\site-packages\\requests\\api.py:73\u001b[0m, in \u001b[0;36mget\u001b[1;34m(url, params, **kwargs)\u001b[0m\n\u001b[0;32m     62\u001b[0m \u001b[39mdef\u001b[39;00m \u001b[39mget\u001b[39m(url, params\u001b[39m=\u001b[39m\u001b[39mNone\u001b[39;00m, \u001b[39m*\u001b[39m\u001b[39m*\u001b[39mkwargs):\n\u001b[0;32m     63\u001b[0m \u001b[39m    \u001b[39m\u001b[39mr\u001b[39m\u001b[39m\"\"\"Sends a GET request.\u001b[39;00m\n\u001b[0;32m     64\u001b[0m \n\u001b[0;32m     65\u001b[0m \u001b[39m    :param url: URL for the new :class:`Request` object.\u001b[39;00m\n\u001b[1;32m   (...)\u001b[0m\n\u001b[0;32m     70\u001b[0m \u001b[39m    :rtype: requests.Response\u001b[39;00m\n\u001b[0;32m     71\u001b[0m \u001b[39m    \"\"\"\u001b[39;00m\n\u001b[1;32m---> 73\u001b[0m     \u001b[39mreturn\u001b[39;00m request(\u001b[39m\"\u001b[39m\u001b[39mget\u001b[39m\u001b[39m\"\u001b[39m, url, params\u001b[39m=\u001b[39mparams, \u001b[39m*\u001b[39m\u001b[39m*\u001b[39mkwargs)\n",
      "File \u001b[1;32m~\\AppData\\Roaming\\Python\\Python39\\site-packages\\requests\\api.py:59\u001b[0m, in \u001b[0;36mrequest\u001b[1;34m(method, url, **kwargs)\u001b[0m\n\u001b[0;32m     55\u001b[0m \u001b[39m# By using the 'with' statement we are sure the session is closed, thus we\u001b[39;00m\n\u001b[0;32m     56\u001b[0m \u001b[39m# avoid leaving sockets open which can trigger a ResourceWarning in some\u001b[39;00m\n\u001b[0;32m     57\u001b[0m \u001b[39m# cases, and look like a memory leak in others.\u001b[39;00m\n\u001b[0;32m     58\u001b[0m \u001b[39mwith\u001b[39;00m sessions\u001b[39m.\u001b[39mSession() \u001b[39mas\u001b[39;00m session:\n\u001b[1;32m---> 59\u001b[0m     \u001b[39mreturn\u001b[39;00m session\u001b[39m.\u001b[39mrequest(method\u001b[39m=\u001b[39mmethod, url\u001b[39m=\u001b[39murl, \u001b[39m*\u001b[39m\u001b[39m*\u001b[39mkwargs)\n",
      "File \u001b[1;32m~\\AppData\\Roaming\\Python\\Python39\\site-packages\\requests\\sessions.py:589\u001b[0m, in \u001b[0;36mSession.request\u001b[1;34m(self, method, url, params, data, headers, cookies, files, auth, timeout, allow_redirects, proxies, hooks, stream, verify, cert, json)\u001b[0m\n\u001b[0;32m    584\u001b[0m send_kwargs \u001b[39m=\u001b[39m {\n\u001b[0;32m    585\u001b[0m     \u001b[39m\"\u001b[39m\u001b[39mtimeout\u001b[39m\u001b[39m\"\u001b[39m: timeout,\n\u001b[0;32m    586\u001b[0m     \u001b[39m\"\u001b[39m\u001b[39mallow_redirects\u001b[39m\u001b[39m\"\u001b[39m: allow_redirects,\n\u001b[0;32m    587\u001b[0m }\n\u001b[0;32m    588\u001b[0m send_kwargs\u001b[39m.\u001b[39mupdate(settings)\n\u001b[1;32m--> 589\u001b[0m resp \u001b[39m=\u001b[39m \u001b[39mself\u001b[39m\u001b[39m.\u001b[39msend(prep, \u001b[39m*\u001b[39m\u001b[39m*\u001b[39msend_kwargs)\n\u001b[0;32m    591\u001b[0m \u001b[39mreturn\u001b[39;00m resp\n",
      "File \u001b[1;32m~\\AppData\\Roaming\\Python\\Python39\\site-packages\\requests\\sessions.py:747\u001b[0m, in \u001b[0;36mSession.send\u001b[1;34m(self, request, **kwargs)\u001b[0m\n\u001b[0;32m    744\u001b[0m         \u001b[39mpass\u001b[39;00m\n\u001b[0;32m    746\u001b[0m \u001b[39mif\u001b[39;00m \u001b[39mnot\u001b[39;00m stream:\n\u001b[1;32m--> 747\u001b[0m     r\u001b[39m.\u001b[39;49mcontent\n\u001b[0;32m    749\u001b[0m \u001b[39mreturn\u001b[39;00m r\n",
      "File \u001b[1;32m~\\AppData\\Roaming\\Python\\Python39\\site-packages\\requests\\models.py:899\u001b[0m, in \u001b[0;36mResponse.content\u001b[1;34m(self)\u001b[0m\n\u001b[0;32m    897\u001b[0m         \u001b[39mself\u001b[39m\u001b[39m.\u001b[39m_content \u001b[39m=\u001b[39m \u001b[39mNone\u001b[39;00m\n\u001b[0;32m    898\u001b[0m     \u001b[39melse\u001b[39;00m:\n\u001b[1;32m--> 899\u001b[0m         \u001b[39mself\u001b[39m\u001b[39m.\u001b[39m_content \u001b[39m=\u001b[39m \u001b[39mb\u001b[39;49m\u001b[39m\"\u001b[39;49m\u001b[39m\"\u001b[39;49m\u001b[39m.\u001b[39;49mjoin(\u001b[39mself\u001b[39;49m\u001b[39m.\u001b[39;49miter_content(CONTENT_CHUNK_SIZE)) \u001b[39mor\u001b[39;00m \u001b[39mb\u001b[39m\u001b[39m\"\u001b[39m\u001b[39m\"\u001b[39m\n\u001b[0;32m    901\u001b[0m \u001b[39mself\u001b[39m\u001b[39m.\u001b[39m_content_consumed \u001b[39m=\u001b[39m \u001b[39mTrue\u001b[39;00m\n\u001b[0;32m    902\u001b[0m \u001b[39m# don't need to release the connection; that's been handled by urllib3\u001b[39;00m\n\u001b[0;32m    903\u001b[0m \u001b[39m# since we exhausted the data.\u001b[39;00m\n",
      "File \u001b[1;32m~\\AppData\\Roaming\\Python\\Python39\\site-packages\\requests\\models.py:818\u001b[0m, in \u001b[0;36mResponse.iter_content.<locals>.generate\u001b[1;34m()\u001b[0m\n\u001b[0;32m    816\u001b[0m     \u001b[39myield from\u001b[39;00m \u001b[39mself\u001b[39m\u001b[39m.\u001b[39mraw\u001b[39m.\u001b[39mstream(chunk_size, decode_content\u001b[39m=\u001b[39m\u001b[39mTrue\u001b[39;00m)\n\u001b[0;32m    817\u001b[0m \u001b[39mexcept\u001b[39;00m ProtocolError \u001b[39mas\u001b[39;00m e:\n\u001b[1;32m--> 818\u001b[0m     \u001b[39mraise\u001b[39;00m ChunkedEncodingError(e)\n\u001b[0;32m    819\u001b[0m \u001b[39mexcept\u001b[39;00m DecodeError \u001b[39mas\u001b[39;00m e:\n\u001b[0;32m    820\u001b[0m     \u001b[39mraise\u001b[39;00m ContentDecodingError(e)\n",
      "\u001b[1;31mChunkedEncodingError\u001b[0m: ('Connection broken: IncompleteRead(24769 bytes read, 1 more expected)', IncompleteRead(24769 bytes read, 1 more expected))"
     ]
    }
   ],
   "source": [
    "errors = []\n",
    "calculated_marks = []\n",
    "for i in range(len(df)):\n",
    "    question = df['question'][i]\n",
    "    # print(\"question:\", question)\n",
    "    answer = df['student_answer'][i]\n",
    "    # print(\"answer:\", answer)\n",
    "    cal_mark = get_marks(question, answer)\n",
    "    # print(\"Calculated marks:\", cal_mark)\n",
    "    original_mark = df['score_avg'][i]\n",
    "    err = abs(original_mark - cal_mark)\n",
    "    errors.append(err)\n",
    "    calculated_marks.append(cal_mark)\n",
    "\n",
    "\n",
    "    "
   ]
  },
  {
   "cell_type": "code",
   "execution_count": 57,
   "metadata": {},
   "outputs": [
    {
     "data": {
      "text/plain": [
       "[0.5,\n",
       " 2.0,\n",
       " 1.0,\n",
       " 1.5,\n",
       " 0.0,\n",
       " 0.0,\n",
       " 0.5,\n",
       " 3.0,\n",
       " 2.5,\n",
       " 2.5,\n",
       " 2.5,\n",
       " 0.5,\n",
       " 2.0,\n",
       " 0.5,\n",
       " 1.0,\n",
       " 2.5,\n",
       " 0.0,\n",
       " 0.5,\n",
       " 0.5,\n",
       " 2.5,\n",
       " 2.5,\n",
       " 1.5,\n",
       " 0.0,\n",
       " 2.5,\n",
       " 1.0,\n",
       " 1.0,\n",
       " 1.0,\n",
       " 1.5,\n",
       " 0.0,\n",
       " 2.5,\n",
       " 3.0,\n",
       " 2.5,\n",
       " 0.5,\n",
       " 2.0]"
      ]
     },
     "execution_count": 57,
     "metadata": {},
     "output_type": "execute_result"
    }
   ],
   "source": [
    "errors"
   ]
  },
  {
   "cell_type": "code",
   "execution_count": 58,
   "metadata": {},
   "outputs": [
    {
     "data": {
      "text/plain": [
       "[3.0,\n",
       " 3.0,\n",
       " 3.0,\n",
       " 3.5,\n",
       " 3.0,\n",
       " 2.0,\n",
       " 3.0,\n",
       " 2.0,\n",
       " 2.5,\n",
       " 2.5,\n",
       " 2.5,\n",
       " 2.5,\n",
       " 2.5,\n",
       " 2.5,\n",
       " 3.5,\n",
       " 2.5,\n",
       " 2.0,\n",
       " 2.5,\n",
       " 3.0,\n",
       " 2.5,\n",
       " 2.5,\n",
       " 3.0,\n",
       " 2.5,\n",
       " 2.5,\n",
       " 3.0,\n",
       " 2.0,\n",
       " 2.0,\n",
       " 4.0,\n",
       " 0.0,\n",
       " 2.5,\n",
       " 3.0,\n",
       " 2.5,\n",
       " 3.0,\n",
       " 2.0]"
      ]
     },
     "execution_count": 58,
     "metadata": {},
     "output_type": "execute_result"
    }
   ],
   "source": [
    "calculated_marks"
   ]
  },
  {
   "cell_type": "code",
   "execution_count": 59,
   "metadata": {},
   "outputs": [
    {
     "data": {
      "text/plain": [
       "34"
      ]
     },
     "execution_count": 59,
     "metadata": {},
     "output_type": "execute_result"
    }
   ],
   "source": [
    "len(errors)"
   ]
  },
  {
   "cell_type": "code",
   "execution_count": 60,
   "metadata": {},
   "outputs": [
    {
     "data": {
      "text/plain": [
       "34"
      ]
     },
     "execution_count": 60,
     "metadata": {},
     "output_type": "execute_result"
    }
   ],
   "source": [
    "len(calculated_marks)"
   ]
  },
  {
   "cell_type": "code",
   "execution_count": 67,
   "metadata": {},
   "outputs": [
    {
     "name": "stdout",
     "output_type": "stream",
     "text": [
      "Error : 27.941176470588236\n"
     ]
    }
   ],
   "source": [
    "total_error = (sum(errors)/len(errors))/fullmarks\n",
    "print(\"Error :\",total_error*100)"
   ]
  },
  {
   "cell_type": "code",
   "execution_count": 28,
   "metadata": {},
   "outputs": [],
   "source": [
    "from sklearn.metrics import mean_squared_error, mean_absolute_error"
   ]
  },
  {
   "cell_type": "code",
   "execution_count": 69,
   "metadata": {},
   "outputs": [
    {
     "data": {
      "text/plain": [
       "0     3.5\n",
       "1     5.0\n",
       "2     4.0\n",
       "3     5.0\n",
       "4     3.0\n",
       "5     2.0\n",
       "6     2.5\n",
       "7     5.0\n",
       "8     5.0\n",
       "9     5.0\n",
       "10    5.0\n",
       "11    2.0\n",
       "12    4.5\n",
       "13    2.0\n",
       "14    4.5\n",
       "15    5.0\n",
       "16    2.0\n",
       "17    2.0\n",
       "18    2.5\n",
       "19    5.0\n",
       "20    5.0\n",
       "21    1.5\n",
       "22    2.5\n",
       "23    5.0\n",
       "24    2.0\n",
       "25    3.0\n",
       "26    3.0\n",
       "27    2.5\n",
       "28    0.0\n",
       "29    0.0\n",
       "30    0.0\n",
       "31    0.0\n",
       "32    3.5\n",
       "33    4.0\n",
       "Name: score_avg, dtype: float64"
      ]
     },
     "execution_count": 69,
     "metadata": {},
     "output_type": "execute_result"
    }
   ],
   "source": [
    "df['score_avg'][:34]"
   ]
  },
  {
   "cell_type": "code",
   "execution_count": 74,
   "metadata": {},
   "outputs": [
    {
     "name": "stdout",
     "output_type": "stream",
     "text": [
      "Mean Squared Error: 2.9338235294117645\n"
     ]
    }
   ],
   "source": [
    "# Calculating Mean Squared Error\n",
    "print(\"Mean Squared Error:\", mean_squared_error(df['score_avg'][:34], calculated_marks))\n"
   ]
  },
  {
   "cell_type": "code",
   "execution_count": 75,
   "metadata": {},
   "outputs": [
    {
     "name": "stdout",
     "output_type": "stream",
     "text": [
      "Root Mean Squared Error: 1.7128407776006982\n"
     ]
    }
   ],
   "source": [
    "# Calculation Root mean squared Error\n",
    "print(\"Root Mean Squared Error:\", mean_squared_error(df['score_avg'][:34], calculated_marks, squared=False))"
   ]
  },
  {
   "cell_type": "code",
   "execution_count": 76,
   "metadata": {},
   "outputs": [
    {
     "name": "stdout",
     "output_type": "stream",
     "text": [
      "Mean Absolute Error: 1.3970588235294117\n"
     ]
    }
   ],
   "source": [
    "# Calculating Mean Absolute Error\n",
    "print(\"Mean Absolute Error:\", mean_absolute_error(df['score_avg'][:34], calculated_marks))\n"
   ]
  },
  {
   "cell_type": "markdown",
   "metadata": {},
   "source": [
    "Error for Jaccard Similarity"
   ]
  },
  {
   "cell_type": "code",
   "execution_count": 24,
   "metadata": {},
   "outputs": [],
   "source": [
    "from sklearn.metrics import jaccard_score\n"
   ]
  },
  {
   "cell_type": "code",
   "execution_count": 25,
   "metadata": {},
   "outputs": [],
   "source": [
    "def calculate_relevance2(desired_answer: str, student_answer: str):\n",
    "    desired_answer = preprocess_text(desired_answer)\n",
    "    student_answer = preprocess_text(student_answer)\n",
    "    # print(\"preprocessed desired answer: \", desired_answer)\n",
    "\n",
    "    dans_arr = model.encode(desired_answer)\n",
    "    print(\"desired_answer array:\",dans_arr)\n",
    "    # compute jaccard_score similarity between desired_answer and student_answer texts\n",
    "    similarity = jaccard_score(model.encode(desired_answer), model.encode(student_answer))\n",
    "    return similarity"
   ]
  },
  {
   "cell_type": "code",
   "execution_count": 26,
   "metadata": {},
   "outputs": [],
   "source": [
    "def get_marks2(question: str, answer: str)-> float:\n",
    "    reference_answers = scrape(question)\n",
    "    marks = []\n",
    "    if reference_answers:\n",
    "        for each_answer in reference_answers:\n",
    "            tmpmrk = calculate_relevance2(each_answer, answer)\n",
    "            marks.append(round(tmpmrk*fullmarks))\n",
    "    return((sum(marks)/len(marks)))"
   ]
  },
  {
   "cell_type": "code",
   "execution_count": 27,
   "metadata": {},
   "outputs": [
    {
     "ename": "ValueError",
     "evalue": "continuous is not supported",
     "output_type": "error",
     "traceback": [
      "\u001b[1;31m---------------------------------------------------------------------------\u001b[0m",
      "\u001b[1;31mValueError\u001b[0m                                Traceback (most recent call last)",
      "\u001b[1;32mc:\\Users\\DELL\\OneDrive\\Desktop\\Third sem\\AIML-Capstone-Project-QA-AI\\answer_grading\\model_.ipynb Cell 41\u001b[0m line \u001b[0;36m<cell line: 3>\u001b[1;34m()\u001b[0m\n\u001b[0;32m      <a href='vscode-notebook-cell:/c%3A/Users/DELL/OneDrive/Desktop/Third%20sem/AIML-Capstone-Project-QA-AI/answer_grading/model_.ipynb#X55sZmlsZQ%3D%3D?line=5'>6</a>\u001b[0m answer \u001b[39m=\u001b[39m df[\u001b[39m'\u001b[39m\u001b[39mstudent_answer\u001b[39m\u001b[39m'\u001b[39m][i]\n\u001b[0;32m      <a href='vscode-notebook-cell:/c%3A/Users/DELL/OneDrive/Desktop/Third%20sem/AIML-Capstone-Project-QA-AI/answer_grading/model_.ipynb#X55sZmlsZQ%3D%3D?line=6'>7</a>\u001b[0m \u001b[39m# print(\"answer:\", answer)\u001b[39;00m\n\u001b[1;32m----> <a href='vscode-notebook-cell:/c%3A/Users/DELL/OneDrive/Desktop/Third%20sem/AIML-Capstone-Project-QA-AI/answer_grading/model_.ipynb#X55sZmlsZQ%3D%3D?line=7'>8</a>\u001b[0m cal_mark \u001b[39m=\u001b[39m get_marks2(question, answer)\n\u001b[0;32m      <a href='vscode-notebook-cell:/c%3A/Users/DELL/OneDrive/Desktop/Third%20sem/AIML-Capstone-Project-QA-AI/answer_grading/model_.ipynb#X55sZmlsZQ%3D%3D?line=8'>9</a>\u001b[0m \u001b[39m# print(\"Calculated marks:\", cal_mark)\u001b[39;00m\n\u001b[0;32m     <a href='vscode-notebook-cell:/c%3A/Users/DELL/OneDrive/Desktop/Third%20sem/AIML-Capstone-Project-QA-AI/answer_grading/model_.ipynb#X55sZmlsZQ%3D%3D?line=9'>10</a>\u001b[0m original_mark \u001b[39m=\u001b[39m df[\u001b[39m'\u001b[39m\u001b[39mscore_avg\u001b[39m\u001b[39m'\u001b[39m][i]\n",
      "\u001b[1;32mc:\\Users\\DELL\\OneDrive\\Desktop\\Third sem\\AIML-Capstone-Project-QA-AI\\answer_grading\\model_.ipynb Cell 41\u001b[0m line \u001b[0;36mget_marks2\u001b[1;34m(question, answer)\u001b[0m\n\u001b[0;32m      <a href='vscode-notebook-cell:/c%3A/Users/DELL/OneDrive/Desktop/Third%20sem/AIML-Capstone-Project-QA-AI/answer_grading/model_.ipynb#X55sZmlsZQ%3D%3D?line=3'>4</a>\u001b[0m \u001b[39mif\u001b[39;00m reference_answers:\n\u001b[0;32m      <a href='vscode-notebook-cell:/c%3A/Users/DELL/OneDrive/Desktop/Third%20sem/AIML-Capstone-Project-QA-AI/answer_grading/model_.ipynb#X55sZmlsZQ%3D%3D?line=4'>5</a>\u001b[0m     \u001b[39mfor\u001b[39;00m each_answer \u001b[39min\u001b[39;00m reference_answers:\n\u001b[1;32m----> <a href='vscode-notebook-cell:/c%3A/Users/DELL/OneDrive/Desktop/Third%20sem/AIML-Capstone-Project-QA-AI/answer_grading/model_.ipynb#X55sZmlsZQ%3D%3D?line=5'>6</a>\u001b[0m         tmpmrk \u001b[39m=\u001b[39m calculate_relevance2(each_answer, answer)\n\u001b[0;32m      <a href='vscode-notebook-cell:/c%3A/Users/DELL/OneDrive/Desktop/Third%20sem/AIML-Capstone-Project-QA-AI/answer_grading/model_.ipynb#X55sZmlsZQ%3D%3D?line=6'>7</a>\u001b[0m         marks\u001b[39m.\u001b[39mappend(\u001b[39mround\u001b[39m(tmpmrk\u001b[39m*\u001b[39mfullmarks))\n\u001b[0;32m      <a href='vscode-notebook-cell:/c%3A/Users/DELL/OneDrive/Desktop/Third%20sem/AIML-Capstone-Project-QA-AI/answer_grading/model_.ipynb#X55sZmlsZQ%3D%3D?line=7'>8</a>\u001b[0m \u001b[39mreturn\u001b[39;00m((\u001b[39msum\u001b[39m(marks)\u001b[39m/\u001b[39m\u001b[39mlen\u001b[39m(marks)))\n",
      "\u001b[1;32mc:\\Users\\DELL\\OneDrive\\Desktop\\Third sem\\AIML-Capstone-Project-QA-AI\\answer_grading\\model_.ipynb Cell 41\u001b[0m line \u001b[0;36mcalculate_relevance2\u001b[1;34m(desired_answer, student_answer)\u001b[0m\n\u001b[0;32m      <a href='vscode-notebook-cell:/c%3A/Users/DELL/OneDrive/Desktop/Third%20sem/AIML-Capstone-Project-QA-AI/answer_grading/model_.ipynb#X55sZmlsZQ%3D%3D?line=2'>3</a>\u001b[0m student_answer \u001b[39m=\u001b[39m preprocess_text(student_answer)\n\u001b[0;32m      <a href='vscode-notebook-cell:/c%3A/Users/DELL/OneDrive/Desktop/Third%20sem/AIML-Capstone-Project-QA-AI/answer_grading/model_.ipynb#X55sZmlsZQ%3D%3D?line=3'>4</a>\u001b[0m \u001b[39m# print(\"preprocessed desired answer: \", desired_answer)\u001b[39;00m\n\u001b[0;32m      <a href='vscode-notebook-cell:/c%3A/Users/DELL/OneDrive/Desktop/Third%20sem/AIML-Capstone-Project-QA-AI/answer_grading/model_.ipynb#X55sZmlsZQ%3D%3D?line=4'>5</a>\u001b[0m \n\u001b[0;32m      <a href='vscode-notebook-cell:/c%3A/Users/DELL/OneDrive/Desktop/Third%20sem/AIML-Capstone-Project-QA-AI/answer_grading/model_.ipynb#X55sZmlsZQ%3D%3D?line=5'>6</a>\u001b[0m \u001b[39m# compute cosine similarity between desired_answer and student_answer texts\u001b[39;00m\n\u001b[1;32m----> <a href='vscode-notebook-cell:/c%3A/Users/DELL/OneDrive/Desktop/Third%20sem/AIML-Capstone-Project-QA-AI/answer_grading/model_.ipynb#X55sZmlsZQ%3D%3D?line=6'>7</a>\u001b[0m similarity \u001b[39m=\u001b[39m jaccard_score(model\u001b[39m.\u001b[39;49mencode(desired_answer), model\u001b[39m.\u001b[39;49mencode(student_answer))\n\u001b[0;32m      <a href='vscode-notebook-cell:/c%3A/Users/DELL/OneDrive/Desktop/Third%20sem/AIML-Capstone-Project-QA-AI/answer_grading/model_.ipynb#X55sZmlsZQ%3D%3D?line=7'>8</a>\u001b[0m \u001b[39mreturn\u001b[39;00m similarity\n",
      "File \u001b[1;32m~\\AppData\\Roaming\\Python\\Python39\\site-packages\\sklearn\\metrics\\_classification.py:799\u001b[0m, in \u001b[0;36mjaccard_score\u001b[1;34m(y_true, y_pred, labels, pos_label, average, sample_weight, zero_division)\u001b[0m\n\u001b[0;32m    667\u001b[0m \u001b[39mdef\u001b[39;00m \u001b[39mjaccard_score\u001b[39m(\n\u001b[0;32m    668\u001b[0m     y_true,\n\u001b[0;32m    669\u001b[0m     y_pred,\n\u001b[1;32m   (...)\u001b[0m\n\u001b[0;32m    675\u001b[0m     zero_division\u001b[39m=\u001b[39m\u001b[39m\"\u001b[39m\u001b[39mwarn\u001b[39m\u001b[39m\"\u001b[39m,\n\u001b[0;32m    676\u001b[0m ):\n\u001b[0;32m    677\u001b[0m \u001b[39m    \u001b[39m\u001b[39m\"\"\"Jaccard similarity coefficient score.\u001b[39;00m\n\u001b[0;32m    678\u001b[0m \n\u001b[0;32m    679\u001b[0m \u001b[39m    The Jaccard index [1], or Jaccard similarity coefficient, defined as\u001b[39;00m\n\u001b[1;32m   (...)\u001b[0m\n\u001b[0;32m    797\u001b[0m \u001b[39m    array([1. , 0. , 0.33...])\u001b[39;00m\n\u001b[0;32m    798\u001b[0m \u001b[39m    \"\"\"\u001b[39;00m\n\u001b[1;32m--> 799\u001b[0m     labels \u001b[39m=\u001b[39m _check_set_wise_labels(y_true, y_pred, average, labels, pos_label)\n\u001b[0;32m    800\u001b[0m     samplewise \u001b[39m=\u001b[39m average \u001b[39m==\u001b[39m \u001b[39m\"\u001b[39m\u001b[39msamples\u001b[39m\u001b[39m\"\u001b[39m\n\u001b[0;32m    801\u001b[0m     MCM \u001b[39m=\u001b[39m multilabel_confusion_matrix(\n\u001b[0;32m    802\u001b[0m         y_true,\n\u001b[0;32m    803\u001b[0m         y_pred,\n\u001b[1;32m   (...)\u001b[0m\n\u001b[0;32m    806\u001b[0m         samplewise\u001b[39m=\u001b[39msamplewise,\n\u001b[0;32m    807\u001b[0m     )\n",
      "File \u001b[1;32m~\\AppData\\Roaming\\Python\\Python39\\site-packages\\sklearn\\metrics\\_classification.py:1364\u001b[0m, in \u001b[0;36m_check_set_wise_labels\u001b[1;34m(y_true, y_pred, average, labels, pos_label)\u001b[0m\n\u001b[0;32m   1361\u001b[0m \u001b[39mif\u001b[39;00m average \u001b[39mnot\u001b[39;00m \u001b[39min\u001b[39;00m average_options \u001b[39mand\u001b[39;00m average \u001b[39m!=\u001b[39m \u001b[39m\"\u001b[39m\u001b[39mbinary\u001b[39m\u001b[39m\"\u001b[39m:\n\u001b[0;32m   1362\u001b[0m     \u001b[39mraise\u001b[39;00m \u001b[39mValueError\u001b[39;00m(\u001b[39m\"\u001b[39m\u001b[39maverage has to be one of \u001b[39m\u001b[39m\"\u001b[39m \u001b[39m+\u001b[39m \u001b[39mstr\u001b[39m(average_options))\n\u001b[1;32m-> 1364\u001b[0m y_type, y_true, y_pred \u001b[39m=\u001b[39m _check_targets(y_true, y_pred)\n\u001b[0;32m   1365\u001b[0m \u001b[39m# Convert to Python primitive type to avoid NumPy type / Python str\u001b[39;00m\n\u001b[0;32m   1366\u001b[0m \u001b[39m# comparison. See https://github.com/numpy/numpy/issues/6784\u001b[39;00m\n\u001b[0;32m   1367\u001b[0m present_labels \u001b[39m=\u001b[39m unique_labels(y_true, y_pred)\u001b[39m.\u001b[39mtolist()\n",
      "File \u001b[1;32m~\\AppData\\Roaming\\Python\\Python39\\site-packages\\sklearn\\metrics\\_classification.py:104\u001b[0m, in \u001b[0;36m_check_targets\u001b[1;34m(y_true, y_pred)\u001b[0m\n\u001b[0;32m    102\u001b[0m \u001b[39m# No metrics support \"multiclass-multioutput\" format\u001b[39;00m\n\u001b[0;32m    103\u001b[0m \u001b[39mif\u001b[39;00m y_type \u001b[39mnot\u001b[39;00m \u001b[39min\u001b[39;00m [\u001b[39m\"\u001b[39m\u001b[39mbinary\u001b[39m\u001b[39m\"\u001b[39m, \u001b[39m\"\u001b[39m\u001b[39mmulticlass\u001b[39m\u001b[39m\"\u001b[39m, \u001b[39m\"\u001b[39m\u001b[39mmultilabel-indicator\u001b[39m\u001b[39m\"\u001b[39m]:\n\u001b[1;32m--> 104\u001b[0m     \u001b[39mraise\u001b[39;00m \u001b[39mValueError\u001b[39;00m(\u001b[39m\"\u001b[39m\u001b[39m{0}\u001b[39;00m\u001b[39m is not supported\u001b[39m\u001b[39m\"\u001b[39m\u001b[39m.\u001b[39mformat(y_type))\n\u001b[0;32m    106\u001b[0m \u001b[39mif\u001b[39;00m y_type \u001b[39min\u001b[39;00m [\u001b[39m\"\u001b[39m\u001b[39mbinary\u001b[39m\u001b[39m\"\u001b[39m, \u001b[39m\"\u001b[39m\u001b[39mmulticlass\u001b[39m\u001b[39m\"\u001b[39m]:\n\u001b[0;32m    107\u001b[0m     y_true \u001b[39m=\u001b[39m column_or_1d(y_true)\n",
      "\u001b[1;31mValueError\u001b[0m: continuous is not supported"
     ]
    }
   ],
   "source": [
    "errors = []\n",
    "calculated_marks = []\n",
    "for i in range(len(df)):\n",
    "    question = df['question'][i]\n",
    "    # print(\"question:\", question)\n",
    "    answer = df['student_answer'][i]\n",
    "    # print(\"answer:\", answer)\n",
    "    cal_mark = get_marks2(question, answer)\n",
    "    # print(\"Calculated marks:\", cal_mark)\n",
    "    original_mark = df['score_avg'][i]\n",
    "    err = abs(original_mark - cal_mark)\n",
    "    errors.append(err)\n",
    "    calculated_marks.append(cal_mark)\n"
   ]
  },
  {
   "cell_type": "code",
   "execution_count": 29,
   "metadata": {},
   "outputs": [
    {
     "data": {
      "text/plain": [
       "[]"
      ]
     },
     "execution_count": 29,
     "metadata": {},
     "output_type": "execute_result"
    }
   ],
   "source": [
    "errors"
   ]
  },
  {
   "cell_type": "code",
   "execution_count": 30,
   "metadata": {},
   "outputs": [
    {
     "ename": "ValueError",
     "evalue": "continuous is not supported",
     "output_type": "error",
     "traceback": [
      "\u001b[1;31m---------------------------------------------------------------------------\u001b[0m",
      "\u001b[1;31mValueError\u001b[0m                                Traceback (most recent call last)",
      "\u001b[1;32mc:\\Users\\DELL\\OneDrive\\Desktop\\Third sem\\AIML-Capstone-Project-QA-AI\\answer_grading\\model_.ipynb Cell 43\u001b[0m line \u001b[0;36m<cell line: 3>\u001b[1;34m()\u001b[0m\n\u001b[0;32m      <a href='vscode-notebook-cell:/c%3A/Users/DELL/OneDrive/Desktop/Third%20sem/AIML-Capstone-Project-QA-AI/answer_grading/model_.ipynb#X60sZmlsZQ%3D%3D?line=0'>1</a>\u001b[0m question \u001b[39m=\u001b[39m \u001b[39m'\u001b[39m\u001b[39mWhat is datascience?\u001b[39m\u001b[39m'\u001b[39m\n\u001b[0;32m      <a href='vscode-notebook-cell:/c%3A/Users/DELL/OneDrive/Desktop/Third%20sem/AIML-Capstone-Project-QA-AI/answer_grading/model_.ipynb#X60sZmlsZQ%3D%3D?line=1'>2</a>\u001b[0m answer \u001b[39m=\u001b[39m \u001b[39m'\u001b[39m\u001b[39mData science is the field of computer science related to the processing, analysis, and inferencing knowledge from data. Also, using the data to build models to predict or classify different things.\u001b[39m\u001b[39m'\u001b[39m\n\u001b[1;32m----> <a href='vscode-notebook-cell:/c%3A/Users/DELL/OneDrive/Desktop/Third%20sem/AIML-Capstone-Project-QA-AI/answer_grading/model_.ipynb#X60sZmlsZQ%3D%3D?line=2'>3</a>\u001b[0m \u001b[39mprint\u001b[39m(get_marks2(question, answer))\n",
      "\u001b[1;32mc:\\Users\\DELL\\OneDrive\\Desktop\\Third sem\\AIML-Capstone-Project-QA-AI\\answer_grading\\model_.ipynb Cell 43\u001b[0m line \u001b[0;36mget_marks2\u001b[1;34m(question, answer)\u001b[0m\n\u001b[0;32m      <a href='vscode-notebook-cell:/c%3A/Users/DELL/OneDrive/Desktop/Third%20sem/AIML-Capstone-Project-QA-AI/answer_grading/model_.ipynb#X60sZmlsZQ%3D%3D?line=3'>4</a>\u001b[0m \u001b[39mif\u001b[39;00m reference_answers:\n\u001b[0;32m      <a href='vscode-notebook-cell:/c%3A/Users/DELL/OneDrive/Desktop/Third%20sem/AIML-Capstone-Project-QA-AI/answer_grading/model_.ipynb#X60sZmlsZQ%3D%3D?line=4'>5</a>\u001b[0m     \u001b[39mfor\u001b[39;00m each_answer \u001b[39min\u001b[39;00m reference_answers:\n\u001b[1;32m----> <a href='vscode-notebook-cell:/c%3A/Users/DELL/OneDrive/Desktop/Third%20sem/AIML-Capstone-Project-QA-AI/answer_grading/model_.ipynb#X60sZmlsZQ%3D%3D?line=5'>6</a>\u001b[0m         tmpmrk \u001b[39m=\u001b[39m calculate_relevance2(each_answer, answer)\n\u001b[0;32m      <a href='vscode-notebook-cell:/c%3A/Users/DELL/OneDrive/Desktop/Third%20sem/AIML-Capstone-Project-QA-AI/answer_grading/model_.ipynb#X60sZmlsZQ%3D%3D?line=6'>7</a>\u001b[0m         marks\u001b[39m.\u001b[39mappend(\u001b[39mround\u001b[39m(tmpmrk\u001b[39m*\u001b[39mfullmarks))\n\u001b[0;32m      <a href='vscode-notebook-cell:/c%3A/Users/DELL/OneDrive/Desktop/Third%20sem/AIML-Capstone-Project-QA-AI/answer_grading/model_.ipynb#X60sZmlsZQ%3D%3D?line=7'>8</a>\u001b[0m \u001b[39mreturn\u001b[39;00m((\u001b[39msum\u001b[39m(marks)\u001b[39m/\u001b[39m\u001b[39mlen\u001b[39m(marks)))\n",
      "\u001b[1;32mc:\\Users\\DELL\\OneDrive\\Desktop\\Third sem\\AIML-Capstone-Project-QA-AI\\answer_grading\\model_.ipynb Cell 43\u001b[0m line \u001b[0;36mcalculate_relevance2\u001b[1;34m(desired_answer, student_answer)\u001b[0m\n\u001b[0;32m      <a href='vscode-notebook-cell:/c%3A/Users/DELL/OneDrive/Desktop/Third%20sem/AIML-Capstone-Project-QA-AI/answer_grading/model_.ipynb#X60sZmlsZQ%3D%3D?line=2'>3</a>\u001b[0m student_answer \u001b[39m=\u001b[39m preprocess_text(student_answer)\n\u001b[0;32m      <a href='vscode-notebook-cell:/c%3A/Users/DELL/OneDrive/Desktop/Third%20sem/AIML-Capstone-Project-QA-AI/answer_grading/model_.ipynb#X60sZmlsZQ%3D%3D?line=3'>4</a>\u001b[0m \u001b[39m# print(\"preprocessed desired answer: \", desired_answer)\u001b[39;00m\n\u001b[0;32m      <a href='vscode-notebook-cell:/c%3A/Users/DELL/OneDrive/Desktop/Third%20sem/AIML-Capstone-Project-QA-AI/answer_grading/model_.ipynb#X60sZmlsZQ%3D%3D?line=4'>5</a>\u001b[0m \n\u001b[0;32m      <a href='vscode-notebook-cell:/c%3A/Users/DELL/OneDrive/Desktop/Third%20sem/AIML-Capstone-Project-QA-AI/answer_grading/model_.ipynb#X60sZmlsZQ%3D%3D?line=5'>6</a>\u001b[0m \u001b[39m# compute cosine similarity between desired_answer and student_answer texts\u001b[39;00m\n\u001b[1;32m----> <a href='vscode-notebook-cell:/c%3A/Users/DELL/OneDrive/Desktop/Third%20sem/AIML-Capstone-Project-QA-AI/answer_grading/model_.ipynb#X60sZmlsZQ%3D%3D?line=6'>7</a>\u001b[0m similarity \u001b[39m=\u001b[39m jaccard_score(model\u001b[39m.\u001b[39;49mencode(desired_answer), model\u001b[39m.\u001b[39;49mencode(student_answer))\n\u001b[0;32m      <a href='vscode-notebook-cell:/c%3A/Users/DELL/OneDrive/Desktop/Third%20sem/AIML-Capstone-Project-QA-AI/answer_grading/model_.ipynb#X60sZmlsZQ%3D%3D?line=7'>8</a>\u001b[0m \u001b[39mreturn\u001b[39;00m similarity\n",
      "File \u001b[1;32m~\\AppData\\Roaming\\Python\\Python39\\site-packages\\sklearn\\metrics\\_classification.py:799\u001b[0m, in \u001b[0;36mjaccard_score\u001b[1;34m(y_true, y_pred, labels, pos_label, average, sample_weight, zero_division)\u001b[0m\n\u001b[0;32m    667\u001b[0m \u001b[39mdef\u001b[39;00m \u001b[39mjaccard_score\u001b[39m(\n\u001b[0;32m    668\u001b[0m     y_true,\n\u001b[0;32m    669\u001b[0m     y_pred,\n\u001b[1;32m   (...)\u001b[0m\n\u001b[0;32m    675\u001b[0m     zero_division\u001b[39m=\u001b[39m\u001b[39m\"\u001b[39m\u001b[39mwarn\u001b[39m\u001b[39m\"\u001b[39m,\n\u001b[0;32m    676\u001b[0m ):\n\u001b[0;32m    677\u001b[0m \u001b[39m    \u001b[39m\u001b[39m\"\"\"Jaccard similarity coefficient score.\u001b[39;00m\n\u001b[0;32m    678\u001b[0m \n\u001b[0;32m    679\u001b[0m \u001b[39m    The Jaccard index [1], or Jaccard similarity coefficient, defined as\u001b[39;00m\n\u001b[1;32m   (...)\u001b[0m\n\u001b[0;32m    797\u001b[0m \u001b[39m    array([1. , 0. , 0.33...])\u001b[39;00m\n\u001b[0;32m    798\u001b[0m \u001b[39m    \"\"\"\u001b[39;00m\n\u001b[1;32m--> 799\u001b[0m     labels \u001b[39m=\u001b[39m _check_set_wise_labels(y_true, y_pred, average, labels, pos_label)\n\u001b[0;32m    800\u001b[0m     samplewise \u001b[39m=\u001b[39m average \u001b[39m==\u001b[39m \u001b[39m\"\u001b[39m\u001b[39msamples\u001b[39m\u001b[39m\"\u001b[39m\n\u001b[0;32m    801\u001b[0m     MCM \u001b[39m=\u001b[39m multilabel_confusion_matrix(\n\u001b[0;32m    802\u001b[0m         y_true,\n\u001b[0;32m    803\u001b[0m         y_pred,\n\u001b[1;32m   (...)\u001b[0m\n\u001b[0;32m    806\u001b[0m         samplewise\u001b[39m=\u001b[39msamplewise,\n\u001b[0;32m    807\u001b[0m     )\n",
      "File \u001b[1;32m~\\AppData\\Roaming\\Python\\Python39\\site-packages\\sklearn\\metrics\\_classification.py:1364\u001b[0m, in \u001b[0;36m_check_set_wise_labels\u001b[1;34m(y_true, y_pred, average, labels, pos_label)\u001b[0m\n\u001b[0;32m   1361\u001b[0m \u001b[39mif\u001b[39;00m average \u001b[39mnot\u001b[39;00m \u001b[39min\u001b[39;00m average_options \u001b[39mand\u001b[39;00m average \u001b[39m!=\u001b[39m \u001b[39m\"\u001b[39m\u001b[39mbinary\u001b[39m\u001b[39m\"\u001b[39m:\n\u001b[0;32m   1362\u001b[0m     \u001b[39mraise\u001b[39;00m \u001b[39mValueError\u001b[39;00m(\u001b[39m\"\u001b[39m\u001b[39maverage has to be one of \u001b[39m\u001b[39m\"\u001b[39m \u001b[39m+\u001b[39m \u001b[39mstr\u001b[39m(average_options))\n\u001b[1;32m-> 1364\u001b[0m y_type, y_true, y_pred \u001b[39m=\u001b[39m _check_targets(y_true, y_pred)\n\u001b[0;32m   1365\u001b[0m \u001b[39m# Convert to Python primitive type to avoid NumPy type / Python str\u001b[39;00m\n\u001b[0;32m   1366\u001b[0m \u001b[39m# comparison. See https://github.com/numpy/numpy/issues/6784\u001b[39;00m\n\u001b[0;32m   1367\u001b[0m present_labels \u001b[39m=\u001b[39m unique_labels(y_true, y_pred)\u001b[39m.\u001b[39mtolist()\n",
      "File \u001b[1;32m~\\AppData\\Roaming\\Python\\Python39\\site-packages\\sklearn\\metrics\\_classification.py:104\u001b[0m, in \u001b[0;36m_check_targets\u001b[1;34m(y_true, y_pred)\u001b[0m\n\u001b[0;32m    102\u001b[0m \u001b[39m# No metrics support \"multiclass-multioutput\" format\u001b[39;00m\n\u001b[0;32m    103\u001b[0m \u001b[39mif\u001b[39;00m y_type \u001b[39mnot\u001b[39;00m \u001b[39min\u001b[39;00m [\u001b[39m\"\u001b[39m\u001b[39mbinary\u001b[39m\u001b[39m\"\u001b[39m, \u001b[39m\"\u001b[39m\u001b[39mmulticlass\u001b[39m\u001b[39m\"\u001b[39m, \u001b[39m\"\u001b[39m\u001b[39mmultilabel-indicator\u001b[39m\u001b[39m\"\u001b[39m]:\n\u001b[1;32m--> 104\u001b[0m     \u001b[39mraise\u001b[39;00m \u001b[39mValueError\u001b[39;00m(\u001b[39m\"\u001b[39m\u001b[39m{0}\u001b[39;00m\u001b[39m is not supported\u001b[39m\u001b[39m\"\u001b[39m\u001b[39m.\u001b[39mformat(y_type))\n\u001b[0;32m    106\u001b[0m \u001b[39mif\u001b[39;00m y_type \u001b[39min\u001b[39;00m [\u001b[39m\"\u001b[39m\u001b[39mbinary\u001b[39m\u001b[39m\"\u001b[39m, \u001b[39m\"\u001b[39m\u001b[39mmulticlass\u001b[39m\u001b[39m\"\u001b[39m]:\n\u001b[0;32m    107\u001b[0m     y_true \u001b[39m=\u001b[39m column_or_1d(y_true)\n",
      "\u001b[1;31mValueError\u001b[0m: continuous is not supported"
     ]
    }
   ],
   "source": [
    "question = 'What is datascience?'\n",
    "answer = 'Data science is the field of computer science related to the processing, analysis, and inferencing knowledge from data. Also, using the data to build models to predict or classify different things.'\n",
    "print(get_marks2(question, answer))"
   ]
  },
  {
   "cell_type": "code",
   "execution_count": null,
   "metadata": {},
   "outputs": [],
   "source": []
  }
 ],
 "metadata": {
  "kernelspec": {
   "display_name": "base",
   "language": "python",
   "name": "python3"
  },
  "language_info": {
   "codemirror_mode": {
    "name": "ipython",
    "version": 3
   },
   "file_extension": ".py",
   "mimetype": "text/x-python",
   "name": "python",
   "nbconvert_exporter": "python",
   "pygments_lexer": "ipython3",
   "version": "3.9.12"
  }
 },
 "nbformat": 4,
 "nbformat_minor": 2
}
