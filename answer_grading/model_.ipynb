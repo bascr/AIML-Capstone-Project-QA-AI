{
 "cells": [
  {
   "cell_type": "code",
   "execution_count": 1,
   "metadata": {},
   "outputs": [],
   "source": [
    "# import required libraries\n",
    "import pandas as pd\n",
    "import numpy as np\n",
    "import matplotlib.pyplot as plt\n",
    "\n",
    "from sklearn.metrics.pairwise import cosine_similarity\n",
    "import re\n",
    "import nltk\n",
    "# nltk.download('punkt')\n",
    "import tensorflow_hub as hub\n",
    "# nltk.download('wordnet')\n",
    "# nltk.download('stopwords')\n",
    "from nltk.corpus import stopwords\n",
    "\n",
    "stop_words = set(stopwords.words('english'))\n",
    "\n",
    "from nltk.stem import WordNetLemmatizer"
   ]
  },
  {
   "cell_type": "code",
   "execution_count": 4,
   "metadata": {},
   "outputs": [],
   "source": [
    "lemmatizer = WordNetLemmatizer()\n",
    "\n",
    "def preprocess_text(text):\n",
    "    # convert to lowercase\n",
    "    text = text.lower()\n",
    "    # remove punctuation and digits\n",
    "    text = re.sub(r'[^\\w\\s]', '', text)\n",
    "    text = re.sub(r'\\d+', '', text)\n",
    "    # remove stopwords and lemmatize\n",
    "    tokens = nltk.word_tokenize(text)\n",
    "    tokens = [lemmatizer.lemmatize(token) for token in tokens if token not in stop_words]\n",
    "    text = ' '.join(tokens)\n",
    "    return text"
   ]
  },
  {
   "cell_type": "code",
   "execution_count": 6,
   "metadata": {},
   "outputs": [],
   "source": [
    "# Tensorflow hub universal sentence encoder\n",
    "embed = hub.load(\"https://tfhub.dev/google/universal-sentence-encoder/4\")"
   ]
  },
  {
   "cell_type": "code",
   "execution_count": 2,
   "metadata": {},
   "outputs": [],
   "source": [
    "def calculate_relevance(desired_answer: str, student_answer: str) -> float:\n",
    "    desired_answer = preprocess_text(desired_answer)\n",
    "    student_answer = preprocess_text(student_answer)\n",
    "\n",
    "    # compute cosine similarity between desired_answer and student_answer texts\n",
    "    similarity = cosine_similarity(embed([desired_answer]).numpy(), embed([student_answer]).numpy())[0][0]\n",
    "    return similarity"
   ]
  },
  {
   "cell_type": "code",
   "execution_count": 9,
   "metadata": {},
   "outputs": [
    {
     "name": "stdout",
     "output_type": "stream",
     "text": [
      "similarity for desired_answer1:  0.69108504\n",
      "similarity for desired_answer2:  0.6503899\n",
      "Final grade:  3\n"
     ]
    }
   ],
   "source": [
    "question = 'What is datascience?'\n",
    "desired_answer1 = 'Data science is an interdisciplinary field that uses data analysis, statistics, and machine learning to extract insights and make data-driven decisions. It involves data collection, cleaning, analysis, machine learning, data visualization, and domain expertise.'\n",
    "desired_answer2 = 'Data science is the practice of extracting insights from data through statistical and computational methods. It involves collecting, cleaning, analyzing, and visualizing data to inform decisions.'\n",
    "answer = 'Data science is the field of computer science related to the processing, analysis, and inferencing knowledge from data. Also, using the data to build models to predict or classify different things.'\n",
    "\n",
    "mrk1 = calculate_relevance(desired_answer1, answer)\n",
    "mrk2 = calculate_relevance(desired_answer2, answer)\n",
    "aggr_mrk = ((mrk1+mrk2)/2)*5\n",
    "print(\"similarity for desired_answer1: \", mrk1)\n",
    "print(\"similarity for desired_answer2: \", mrk2)\n",
    "print(\"Final grade: \", round(aggr_mrk))"
   ]
  },
  {
   "cell_type": "code",
   "execution_count": 44,
   "metadata": {},
   "outputs": [],
   "source": [
    "from scraper import  scrape"
   ]
  },
  {
   "cell_type": "code",
   "execution_count": 46,
   "metadata": {},
   "outputs": [],
   "source": [
    "fullmarks = 5"
   ]
  },
  {
   "cell_type": "code",
   "execution_count": 45,
   "metadata": {},
   "outputs": [],
   "source": [
    "question='What are the 3 big Vs of BigData?' \n",
    "answer = 'Data science is the field of computer science related to the processing, analysis, and inferencing knowledge from data. Also, using the data to build models to predict or classify different things.'\n",
    "reference_answers = scrape(question)"
   ]
  },
  {
   "cell_type": "code",
   "execution_count": 50,
   "metadata": {},
   "outputs": [],
   "source": [
    "marks = []\n",
    "if reference_answers:\n",
    "    for each_answer in reference_answers:\n",
    "        tmpmrk = calculate_relevance(each_answer, answer)\n",
    "        marks.append(round(tmpmrk*fullmarks))"
   ]
  },
  {
   "cell_type": "code",
   "execution_count": 51,
   "metadata": {},
   "outputs": [
    {
     "data": {
      "text/plain": [
       "[2, 2]"
      ]
     },
     "execution_count": 51,
     "metadata": {},
     "output_type": "execute_result"
    }
   ],
   "source": [
    "marks"
   ]
  },
  {
   "cell_type": "code",
   "execution_count": 54,
   "metadata": {},
   "outputs": [
    {
     "name": "stdout",
     "output_type": "stream",
     "text": [
      "Graded marks(average):2.0/5 \n"
     ]
    }
   ],
   "source": [
    "print(\"Graded marks(average):{}/5 \".format(sum(marks)/len(marks)))"
   ]
  },
  {
   "cell_type": "code",
   "execution_count": null,
   "metadata": {},
   "outputs": [],
   "source": []
  }
 ],
 "metadata": {
  "kernelspec": {
   "display_name": "base",
   "language": "python",
   "name": "python3"
  },
  "language_info": {
   "codemirror_mode": {
    "name": "ipython",
    "version": 3
   },
   "file_extension": ".py",
   "mimetype": "text/x-python",
   "name": "python",
   "nbconvert_exporter": "python",
   "pygments_lexer": "ipython3",
   "version": "3.9.12"
  }
 },
 "nbformat": 4,
 "nbformat_minor": 2
}
